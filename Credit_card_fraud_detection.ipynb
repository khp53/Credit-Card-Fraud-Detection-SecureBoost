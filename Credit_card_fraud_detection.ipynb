{
  "nbformat": 4,
  "nbformat_minor": 0,
  "metadata": {
    "colab": {
      "provenance": [],
      "authorship_tag": "ABX9TyNgA7rUyWqQ0e4G7oS+dGkI",
      "include_colab_link": true
    },
    "kernelspec": {
      "name": "python3",
      "display_name": "Python 3"
    },
    "language_info": {
      "name": "python"
    }
  },
  "cells": [
    {
      "cell_type": "markdown",
      "metadata": {
        "id": "view-in-github",
        "colab_type": "text"
      },
      "source": [
        "<a href=\"https://colab.research.google.com/github/khp53/Credit-Card-Fraud-Detection-SecureBoost/blob/main/Credit_card_fraud_detection.ipynb\" target=\"_parent\"><img src=\"https://colab.research.google.com/assets/colab-badge.svg\" alt=\"Open In Colab\"/></a>"
      ]
    },
    {
      "cell_type": "code",
      "execution_count": 1,
      "metadata": {
        "colab": {
          "base_uri": "https://localhost:8080/"
        },
        "id": "-wA5ftHSYN62",
        "outputId": "c46e0790-d408-4f31-b10b-ee3ce79248c1"
      },
      "outputs": [
        {
          "output_type": "stream",
          "name": "stdout",
          "text": [
            "Collecting sdv\n",
            "  Downloading sdv-1.17.2-py3-none-any.whl.metadata (13 kB)\n",
            "Collecting boto3<2.0.0,>=1.28 (from sdv)\n",
            "  Downloading boto3-1.35.68-py3-none-any.whl.metadata (6.7 kB)\n",
            "Collecting botocore<2.0.0,>=1.31 (from sdv)\n",
            "  Downloading botocore-1.35.68-py3-none-any.whl.metadata (5.7 kB)\n",
            "Requirement already satisfied: cloudpickle>=2.1.0 in /usr/local/lib/python3.10/dist-packages (from sdv) (3.1.0)\n",
            "Requirement already satisfied: graphviz>=0.13.2 in /usr/local/lib/python3.10/dist-packages (from sdv) (0.20.3)\n",
            "Requirement already satisfied: tqdm>=4.29 in /usr/local/lib/python3.10/dist-packages (from sdv) (4.66.6)\n",
            "Collecting copulas>=0.12.0 (from sdv)\n",
            "  Downloading copulas-0.12.0-py3-none-any.whl.metadata (9.1 kB)\n",
            "Collecting ctgan>=0.10.2 (from sdv)\n",
            "  Downloading ctgan-0.10.2-py3-none-any.whl.metadata (10 kB)\n",
            "Collecting deepecho>=0.6.1 (from sdv)\n",
            "  Downloading deepecho-0.6.1-py3-none-any.whl.metadata (10 kB)\n",
            "Collecting rdt>=1.13.1 (from sdv)\n",
            "  Downloading rdt-1.13.1-py3-none-any.whl.metadata (10 kB)\n",
            "Collecting sdmetrics>=0.17.0 (from sdv)\n",
            "  Downloading sdmetrics-0.17.0-py3-none-any.whl.metadata (8.7 kB)\n",
            "Requirement already satisfied: platformdirs>=4.0 in /usr/local/lib/python3.10/dist-packages (from sdv) (4.3.6)\n",
            "Requirement already satisfied: pyyaml>=6.0.1 in /usr/local/lib/python3.10/dist-packages (from sdv) (6.0.2)\n",
            "Requirement already satisfied: pandas>=1.4.0 in /usr/local/lib/python3.10/dist-packages (from sdv) (2.2.2)\n",
            "Requirement already satisfied: numpy>=1.23.3 in /usr/local/lib/python3.10/dist-packages (from sdv) (1.26.4)\n",
            "Collecting jmespath<2.0.0,>=0.7.1 (from boto3<2.0.0,>=1.28->sdv)\n",
            "  Downloading jmespath-1.0.1-py3-none-any.whl.metadata (7.6 kB)\n",
            "Collecting s3transfer<0.11.0,>=0.10.0 (from boto3<2.0.0,>=1.28->sdv)\n",
            "  Downloading s3transfer-0.10.4-py3-none-any.whl.metadata (1.7 kB)\n",
            "Requirement already satisfied: python-dateutil<3.0.0,>=2.1 in /usr/local/lib/python3.10/dist-packages (from botocore<2.0.0,>=1.31->sdv) (2.8.2)\n",
            "Requirement already satisfied: urllib3!=2.2.0,<3,>=1.25.4 in /usr/local/lib/python3.10/dist-packages (from botocore<2.0.0,>=1.31->sdv) (2.2.3)\n",
            "Requirement already satisfied: plotly>=5.10.0 in /usr/local/lib/python3.10/dist-packages (from copulas>=0.12.0->sdv) (5.24.1)\n",
            "Requirement already satisfied: scipy>=1.9.2 in /usr/local/lib/python3.10/dist-packages (from copulas>=0.12.0->sdv) (1.13.1)\n",
            "Requirement already satisfied: torch>=1.11.0 in /usr/local/lib/python3.10/dist-packages (from ctgan>=0.10.2->sdv) (2.5.1+cu121)\n",
            "Requirement already satisfied: pytz>=2020.1 in /usr/local/lib/python3.10/dist-packages (from pandas>=1.4.0->sdv) (2024.2)\n",
            "Requirement already satisfied: tzdata>=2022.7 in /usr/local/lib/python3.10/dist-packages (from pandas>=1.4.0->sdv) (2024.2)\n",
            "Collecting Faker>=17 (from rdt>=1.13.1->sdv)\n",
            "  Downloading Faker-33.0.0-py3-none-any.whl.metadata (15 kB)\n",
            "Requirement already satisfied: scikit-learn>=1.1.0 in /usr/local/lib/python3.10/dist-packages (from rdt>=1.13.1->sdv) (1.5.2)\n",
            "Requirement already satisfied: typing-extensions in /usr/local/lib/python3.10/dist-packages (from Faker>=17->rdt>=1.13.1->sdv) (4.12.2)\n",
            "Requirement already satisfied: tenacity>=6.2.0 in /usr/local/lib/python3.10/dist-packages (from plotly>=5.10.0->copulas>=0.12.0->sdv) (9.0.0)\n",
            "Requirement already satisfied: packaging in /usr/local/lib/python3.10/dist-packages (from plotly>=5.10.0->copulas>=0.12.0->sdv) (24.2)\n",
            "Requirement already satisfied: six>=1.5 in /usr/local/lib/python3.10/dist-packages (from python-dateutil<3.0.0,>=2.1->botocore<2.0.0,>=1.31->sdv) (1.16.0)\n",
            "Requirement already satisfied: joblib>=1.2.0 in /usr/local/lib/python3.10/dist-packages (from scikit-learn>=1.1.0->rdt>=1.13.1->sdv) (1.4.2)\n",
            "Requirement already satisfied: threadpoolctl>=3.1.0 in /usr/local/lib/python3.10/dist-packages (from scikit-learn>=1.1.0->rdt>=1.13.1->sdv) (3.5.0)\n",
            "Requirement already satisfied: filelock in /usr/local/lib/python3.10/dist-packages (from torch>=1.11.0->ctgan>=0.10.2->sdv) (3.16.1)\n",
            "Requirement already satisfied: networkx in /usr/local/lib/python3.10/dist-packages (from torch>=1.11.0->ctgan>=0.10.2->sdv) (3.4.2)\n",
            "Requirement already satisfied: jinja2 in /usr/local/lib/python3.10/dist-packages (from torch>=1.11.0->ctgan>=0.10.2->sdv) (3.1.4)\n",
            "Requirement already satisfied: fsspec in /usr/local/lib/python3.10/dist-packages (from torch>=1.11.0->ctgan>=0.10.2->sdv) (2024.10.0)\n",
            "Requirement already satisfied: sympy==1.13.1 in /usr/local/lib/python3.10/dist-packages (from torch>=1.11.0->ctgan>=0.10.2->sdv) (1.13.1)\n",
            "Requirement already satisfied: mpmath<1.4,>=1.1.0 in /usr/local/lib/python3.10/dist-packages (from sympy==1.13.1->torch>=1.11.0->ctgan>=0.10.2->sdv) (1.3.0)\n",
            "Requirement already satisfied: MarkupSafe>=2.0 in /usr/local/lib/python3.10/dist-packages (from jinja2->torch>=1.11.0->ctgan>=0.10.2->sdv) (3.0.2)\n",
            "Downloading sdv-1.17.2-py3-none-any.whl (154 kB)\n",
            "\u001b[2K   \u001b[90m━━━━━━━━━━━━━━━━━━━━━━━━━━━━━━━━━━━━━━━━\u001b[0m \u001b[32m154.0/154.0 kB\u001b[0m \u001b[31m3.4 MB/s\u001b[0m eta \u001b[36m0:00:00\u001b[0m\n",
            "\u001b[?25hDownloading boto3-1.35.68-py3-none-any.whl (139 kB)\n",
            "\u001b[2K   \u001b[90m━━━━━━━━━━━━━━━━━━━━━━━━━━━━━━━━━━━━━━━━\u001b[0m \u001b[32m139.2/139.2 kB\u001b[0m \u001b[31m10.2 MB/s\u001b[0m eta \u001b[36m0:00:00\u001b[0m\n",
            "\u001b[?25hDownloading botocore-1.35.68-py3-none-any.whl (13.0 MB)\n",
            "\u001b[2K   \u001b[90m━━━━━━━━━━━━━━━━━━━━━━━━━━━━━━━━━━━━━━━━\u001b[0m \u001b[32m13.0/13.0 MB\u001b[0m \u001b[31m70.4 MB/s\u001b[0m eta \u001b[36m0:00:00\u001b[0m\n",
            "\u001b[?25hDownloading copulas-0.12.0-py3-none-any.whl (52 kB)\n",
            "\u001b[2K   \u001b[90m━━━━━━━━━━━━━━━━━━━━━━━━━━━━━━━━━━━━━━━━\u001b[0m \u001b[32m52.4/52.4 kB\u001b[0m \u001b[31m3.7 MB/s\u001b[0m eta \u001b[36m0:00:00\u001b[0m\n",
            "\u001b[?25hDownloading ctgan-0.10.2-py3-none-any.whl (23 kB)\n",
            "Downloading deepecho-0.6.1-py3-none-any.whl (27 kB)\n",
            "Downloading rdt-1.13.1-py3-none-any.whl (66 kB)\n",
            "\u001b[2K   \u001b[90m━━━━━━━━━━━━━━━━━━━━━━━━━━━━━━━━━━━━━━━━\u001b[0m \u001b[32m66.8/66.8 kB\u001b[0m \u001b[31m4.7 MB/s\u001b[0m eta \u001b[36m0:00:00\u001b[0m\n",
            "\u001b[?25hDownloading sdmetrics-0.17.0-py3-none-any.whl (174 kB)\n",
            "\u001b[2K   \u001b[90m━━━━━━━━━━━━━━━━━━━━━━━━━━━━━━━━━━━━━━━━\u001b[0m \u001b[32m174.7/174.7 kB\u001b[0m \u001b[31m11.9 MB/s\u001b[0m eta \u001b[36m0:00:00\u001b[0m\n",
            "\u001b[?25hDownloading Faker-33.0.0-py3-none-any.whl (1.9 MB)\n",
            "\u001b[2K   \u001b[90m━━━━━━━━━━━━━━━━━━━━━━━━━━━━━━━━━━━━━━━━\u001b[0m \u001b[32m1.9/1.9 MB\u001b[0m \u001b[31m53.2 MB/s\u001b[0m eta \u001b[36m0:00:00\u001b[0m\n",
            "\u001b[?25hDownloading jmespath-1.0.1-py3-none-any.whl (20 kB)\n",
            "Downloading s3transfer-0.10.4-py3-none-any.whl (83 kB)\n",
            "\u001b[2K   \u001b[90m━━━━━━━━━━━━━━━━━━━━━━━━━━━━━━━━━━━━━━━━\u001b[0m \u001b[32m83.2/83.2 kB\u001b[0m \u001b[31m6.3 MB/s\u001b[0m eta \u001b[36m0:00:00\u001b[0m\n",
            "\u001b[?25hInstalling collected packages: jmespath, Faker, botocore, s3transfer, rdt, deepecho, copulas, sdmetrics, ctgan, boto3, sdv\n",
            "Successfully installed Faker-33.0.0 boto3-1.35.68 botocore-1.35.68 copulas-0.12.0 ctgan-0.10.2 deepecho-0.6.1 jmespath-1.0.1 rdt-1.13.1 s3transfer-0.10.4 sdmetrics-0.17.0 sdv-1.17.2\n"
          ]
        }
      ],
      "source": [
        "!pip install sdv"
      ]
    },
    {
      "cell_type": "code",
      "source": [
        "import pandas as pd\n",
        "from sdv.single_table import CTGANSynthesizer\n",
        "from sdv.evaluation.single_table import run_diagnostic\n",
        "import numpy as np\n",
        "import datetime as dt\n",
        "\n",
        "\n",
        "# Load or create a dataset\n",
        "real_data = pd.read_csv('creditcard.csv')\n",
        "\n",
        "# We will need additional metadata as this dataset does not include much valuable metadata\n",
        "# For PCA complience all of them are encrypted.\n",
        "\n",
        "# External Metadata\n",
        "merchant_category = [\"Grocery\", \"Electronics\", \"Clothing\", \"Travel\", \"Restaurants\"]\n",
        "real_data[\"Merchant Category\"] = np.random.choice(merchant_category, size=len(real_data))\n",
        "\n",
        "device_type = [\"Mobile\", \"Desktop\", \"Tablet\"]\n",
        "real_data[\"Device Type\"] = np.random.choice(device_type, size=len(real_data))\n",
        "\n",
        "locations = [\"City A\", \"City B\", \"City C\"]\n",
        "real_data[\"Location\"] = np.random.choice(locations, size=len(real_data))\n",
        "\n",
        "# HEre we are using the existing time values from our real_data to calculate a time stamp for metadata\n",
        "timestamp_start = dt.datetime(2022, 11, 14)\n",
        "real_data[\"Transaction Timestamp\"] = real_data[\"Time\"].apply(lambda x: timestamp_start + dt.timedelta(days=x))\n",
        "\n",
        "payment_methods = [\"Credit Card\", \"Debit Card\", \"Apple Pay\", \"Google Pay\", \"Interact\"]\n",
        "real_data[\"Payment Method\"] = np.random.choice(payment_methods, size=len(real_data))\n",
        "\n",
        "channel = [\"Online\", \"In-Store\", \"POS\"]\n",
        "real_data[\"Channel\"] = np.random.choice(channel, size=len(real_data))\n",
        "\n",
        "season = [\"Winter\", \"Spring\", \"Summer\", \"Holiday\"]\n",
        "real_data[\"Season\"] = np.random.choice(season, size=len(real_data))\n",
        "\n",
        "card_types = [\"Visa\", \"MasterCard\", \"American Express\", \"Discover\"]\n",
        "real_data[\"Card Type\"] = np.random.choice(card_types, size=len(real_data))\n",
        "\n",
        "real_data[\"Credit Limit\"] = np.random.uniform(1000, 10000, size=len(real_data))\n",
        "real_data[\"Cardholder Risk Score\"] = np.random.uniform(300, 850, size=len(real_data))\n",
        "real_data[\"Number of Active Cards\"] = np.random.randint(1, 5, size=len(real_data))\n",
        "real_data[\"Loyalty Points Available\"] = np.random.randint(0, 5000, size=len(real_data))"
      ],
      "metadata": {
        "id": "ex1JdStyYkrJ"
      },
      "execution_count": 2,
      "outputs": []
    },
    {
      "cell_type": "code",
      "source": [
        "def generate_card_id(card_type):\n",
        "    if card_type == 'Visa':\n",
        "        return '4' + ''.join(np.random.choice(list('0123456789'), size=15))\n",
        "    elif card_type == 'MasterCard':\n",
        "        prefix = np.random.choice(['51', '52', '53', '54', '55'] + [str(i) for i in range(2221, 2721)])\n",
        "        return prefix + ''.join(np.random.choice(list('0123456789'), size=16-len(prefix)))\n",
        "    elif card_type == 'American Express':\n",
        "        prefix = np.random.choice(['34', '37'])\n",
        "        return prefix + ''.join(np.random.choice(list('0123456789'), size=13))\n",
        "    elif card_type == 'Discover':\n",
        "        prefix = np.random.choice(['6011'] + [str(i) for i in range(622126, 622926)] + ['644', '645', '646', '647', '648', '649', '65'])\n",
        "        return prefix + ''.join(np.random.choice(list('0123456789'), size=16-len(prefix)))\n",
        "    else:\n",
        "        return None"
      ],
      "metadata": {
        "id": "N9s7U-0egaKN"
      },
      "execution_count": 3,
      "outputs": []
    },
    {
      "cell_type": "code",
      "source": [
        "real_data['Card ID'] = real_data['Card Type'].apply(generate_card_id)"
      ],
      "metadata": {
        "id": "3lwbWm6agck0"
      },
      "execution_count": 4,
      "outputs": []
    },
    {
      "cell_type": "code",
      "source": [
        "real_data.to_csv(\"augmented_creditcard.csv\", index=False)"
      ],
      "metadata": {
        "id": "yMYVN8cMggLd"
      },
      "execution_count": 5,
      "outputs": []
    },
    {
      "cell_type": "code",
      "source": [
        "from sdv.metadata import SingleTableMetadata\n",
        "\n",
        "augmented_data = pd.read_csv(\"augmented_creditcard.csv\")\n",
        "\n",
        "metadata = SingleTableMetadata()\n",
        "metadata.detect_from_dataframe(augmented_data)\n",
        "\n",
        "print(metadata.to_dict())\n",
        "\n",
        "# Save metadata to json for later reading\n",
        "metadata.save_to_json(\"creditcard_metadata.json\")\n",
        "print(\"Metadata saved!\")"
      ],
      "metadata": {
        "colab": {
          "base_uri": "https://localhost:8080/"
        },
        "id": "GtCwBckPjdMx",
        "outputId": "70e9abd8-fb46-4ca0-e7b9-12bbfd23a58c"
      },
      "execution_count": 6,
      "outputs": [
        {
          "output_type": "stream",
          "name": "stdout",
          "text": [
            "{'columns': {'Time': {'sdtype': 'numerical'}, 'V1': {'sdtype': 'numerical'}, 'V2': {'sdtype': 'numerical'}, 'V3': {'sdtype': 'numerical'}, 'V4': {'sdtype': 'numerical'}, 'V5': {'sdtype': 'numerical'}, 'V6': {'sdtype': 'numerical'}, 'V7': {'sdtype': 'numerical'}, 'V8': {'sdtype': 'numerical'}, 'V9': {'sdtype': 'numerical'}, 'V10': {'sdtype': 'numerical'}, 'V11': {'sdtype': 'numerical'}, 'V12': {'sdtype': 'numerical'}, 'V13': {'sdtype': 'numerical'}, 'V14': {'sdtype': 'numerical'}, 'V15': {'sdtype': 'numerical'}, 'V16': {'sdtype': 'numerical'}, 'V17': {'sdtype': 'numerical'}, 'V18': {'sdtype': 'numerical'}, 'V19': {'sdtype': 'numerical'}, 'V20': {'sdtype': 'numerical'}, 'V21': {'sdtype': 'numerical'}, 'V22': {'sdtype': 'numerical'}, 'V23': {'sdtype': 'numerical'}, 'V24': {'sdtype': 'numerical'}, 'V25': {'sdtype': 'numerical'}, 'V26': {'sdtype': 'numerical'}, 'V27': {'sdtype': 'numerical'}, 'V28': {'sdtype': 'numerical'}, 'Amount': {'sdtype': 'numerical'}, 'Class': {'sdtype': 'categorical'}, 'Merchant Category': {'sdtype': 'categorical'}, 'Device Type': {'sdtype': 'categorical'}, 'Location': {'sdtype': 'categorical'}, 'Transaction Timestamp': {'sdtype': 'unknown', 'pii': True}, 'Payment Method': {'sdtype': 'categorical'}, 'Channel': {'sdtype': 'categorical'}, 'Season': {'sdtype': 'categorical'}, 'Card Type': {'sdtype': 'categorical'}, 'Credit Limit': {'sdtype': 'numerical'}, 'Cardholder Risk Score': {'sdtype': 'numerical'}, 'Number of Active Cards': {'sdtype': 'categorical'}, 'Loyalty Points Available': {'sdtype': 'numerical'}, 'Card ID': {'sdtype': 'id'}}, 'primary_key': 'Card ID', 'METADATA_SPEC_VERSION': 'SINGLE_TABLE_V1'}\n",
            "Metadata saved!\n"
          ]
        }
      ]
    },
    {
      "cell_type": "code",
      "source": [
        "json_metadata = SingleTableMetadata.load_from_json(\"creditcard_metadata.json\")\n",
        "\n",
        "synthesizer = CTGANSynthesizer(json_metadata, epochs=100,\n",
        "    verbose=True)\n",
        "reduced_data = augmented_data.sample(frac=0.3, random_state=56)\n",
        "synthesizer.fit(reduced_data)\n",
        "\n",
        "synthetic_data = synthesizer.sample(num_rows=len(reduced_data))\n",
        "print(synthetic_data.head(5))\n",
        "\n",
        "synthetic_data.to_csv(\"synthetic_creditcard.csv\", index=False)"
      ],
      "metadata": {
        "colab": {
          "base_uri": "https://localhost:8080/"
        },
        "id": "aO6_pkLnkd3Y",
        "outputId": "8532778a-bbd5-4012-bbd5-9ec6d8318f4b"
      },
      "execution_count": 7,
      "outputs": [
        {
          "output_type": "stream",
          "name": "stderr",
          "text": [
            "/usr/local/lib/python3.10/dist-packages/sdv/single_table/base.py:119: FutureWarning: The 'SingleTableMetadata' is deprecated. Please use the new 'Metadata' class for synthesizers.\n",
            "  warnings.warn(DEPRECATION_MSG, FutureWarning)\n",
            "Gen. (-6.12) | Discrim. (-0.04): 100%|██████████| 100/100 [1:14:48<00:00, 44.89s/it]\n"
          ]
        },
        {
          "output_type": "stream",
          "name": "stdout",
          "text": [
            "      Time        V1        V2        V3        V4        V5        V6  \\\n",
            "0  68183.0 -2.555683  1.046685  1.020982  1.566225  3.022399  1.321870   \n",
            "1  71429.0  1.315486 -0.371440 -0.070024  0.281124  0.334142  0.887258   \n",
            "2  51993.0 -0.947109  1.290269  0.083987 -0.652643  1.661304 -0.653085   \n",
            "3  64155.0 -0.302848  1.081142  0.568993  2.189436  1.593832  0.074635   \n",
            "4  74694.0  2.004417 -0.660734 -0.561478 -0.188918  0.360716 -0.743623   \n",
            "\n",
            "         V7        V8        V9  ...  Transaction Timestamp  Payment Method  \\\n",
            "0  1.108944 -0.072699 -0.509197  ...          sdv-pii-24p3x      Debit Card   \n",
            "1  0.183357  0.269768  1.117159  ...          sdv-pii-ngu20      Debit Card   \n",
            "2  0.879837 -0.047507 -0.120699  ...          sdv-pii-kp3sm      Google Pay   \n",
            "3  0.624375  0.803518 -0.288782  ...          sdv-pii-u659p       Apple Pay   \n",
            "4  0.224457  0.000284 -0.476166  ...          sdv-pii-ltoow       Apple Pay   \n",
            "\n",
            "    Channel  Season         Card Type  Credit Limit  Cardholder Risk Score  \\\n",
            "0    Online  Summer              Visa   1938.788822             452.095477   \n",
            "1       POS  Spring          Discover   7064.134292             711.067184   \n",
            "2  In-Store  Summer  American Express   6450.094268             396.961578   \n",
            "3    Online  Spring              Visa   8966.061953             592.930310   \n",
            "4    Online  Spring  American Express   4978.858676             520.304113   \n",
            "\n",
            "   Number of Active Cards  Loyalty Points Available   Card ID  \n",
            "0                       2                      3390  11591305  \n",
            "1                       4                      3762  13062160  \n",
            "2                       4                      2404  13475869  \n",
            "3                       3                      2114   3657495  \n",
            "4                       3                      2302   8163918  \n",
            "\n",
            "[5 rows x 44 columns]\n"
          ]
        }
      ]
    }
  ]
}