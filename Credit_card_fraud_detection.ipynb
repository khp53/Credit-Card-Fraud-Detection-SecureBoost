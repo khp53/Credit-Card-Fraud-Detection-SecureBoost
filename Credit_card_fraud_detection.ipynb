{
  "nbformat": 4,
  "nbformat_minor": 0,
  "metadata": {
    "colab": {
      "provenance": [],
      "authorship_tag": "ABX9TyOXs95X4KdVXD791j9o0yFf",
      "include_colab_link": true
    },
    "kernelspec": {
      "name": "python3",
      "display_name": "Python 3"
    },
    "language_info": {
      "name": "python"
    }
  },
  "cells": [
    {
      "cell_type": "markdown",
      "metadata": {
        "id": "view-in-github",
        "colab_type": "text"
      },
      "source": [
        "<a href=\"https://colab.research.google.com/github/khp53/Credit-Card-Fraud-Detection-SecureBoost/blob/main/Credit_card_fraud_detection.ipynb\" target=\"_parent\"><img src=\"https://colab.research.google.com/assets/colab-badge.svg\" alt=\"Open In Colab\"/></a>"
      ]
    },
    {
      "cell_type": "code",
      "execution_count": 5,
      "metadata": {
        "colab": {
          "base_uri": "https://localhost:8080/"
        },
        "id": "-wA5ftHSYN62",
        "outputId": "7ae246c3-b58a-4aba-903e-6ab4aeead65f"
      },
      "outputs": [
        {
          "output_type": "stream",
          "name": "stdout",
          "text": [
            "Requirement already satisfied: sdv in /usr/local/lib/python3.10/dist-packages (1.17.2)\n",
            "Requirement already satisfied: boto3<2.0.0,>=1.28 in /usr/local/lib/python3.10/dist-packages (from sdv) (1.35.68)\n",
            "Requirement already satisfied: botocore<2.0.0,>=1.31 in /usr/local/lib/python3.10/dist-packages (from sdv) (1.35.68)\n",
            "Requirement already satisfied: cloudpickle>=2.1.0 in /usr/local/lib/python3.10/dist-packages (from sdv) (3.1.0)\n",
            "Requirement already satisfied: graphviz>=0.13.2 in /usr/local/lib/python3.10/dist-packages (from sdv) (0.20.3)\n",
            "Requirement already satisfied: tqdm>=4.29 in /usr/local/lib/python3.10/dist-packages (from sdv) (4.66.6)\n",
            "Requirement already satisfied: copulas>=0.12.0 in /usr/local/lib/python3.10/dist-packages (from sdv) (0.12.0)\n",
            "Requirement already satisfied: ctgan>=0.10.2 in /usr/local/lib/python3.10/dist-packages (from sdv) (0.10.2)\n",
            "Requirement already satisfied: deepecho>=0.6.1 in /usr/local/lib/python3.10/dist-packages (from sdv) (0.6.1)\n",
            "Requirement already satisfied: rdt>=1.13.1 in /usr/local/lib/python3.10/dist-packages (from sdv) (1.13.1)\n",
            "Requirement already satisfied: sdmetrics>=0.17.0 in /usr/local/lib/python3.10/dist-packages (from sdv) (0.17.0)\n",
            "Requirement already satisfied: platformdirs>=4.0 in /usr/local/lib/python3.10/dist-packages (from sdv) (4.3.6)\n",
            "Requirement already satisfied: pyyaml>=6.0.1 in /usr/local/lib/python3.10/dist-packages (from sdv) (6.0.2)\n",
            "Requirement already satisfied: pandas>=1.4.0 in /usr/local/lib/python3.10/dist-packages (from sdv) (2.2.2)\n",
            "Requirement already satisfied: numpy>=1.23.3 in /usr/local/lib/python3.10/dist-packages (from sdv) (1.26.4)\n",
            "Requirement already satisfied: jmespath<2.0.0,>=0.7.1 in /usr/local/lib/python3.10/dist-packages (from boto3<2.0.0,>=1.28->sdv) (1.0.1)\n",
            "Requirement already satisfied: s3transfer<0.11.0,>=0.10.0 in /usr/local/lib/python3.10/dist-packages (from boto3<2.0.0,>=1.28->sdv) (0.10.4)\n",
            "Requirement already satisfied: python-dateutil<3.0.0,>=2.1 in /usr/local/lib/python3.10/dist-packages (from botocore<2.0.0,>=1.31->sdv) (2.8.2)\n",
            "Requirement already satisfied: urllib3!=2.2.0,<3,>=1.25.4 in /usr/local/lib/python3.10/dist-packages (from botocore<2.0.0,>=1.31->sdv) (2.2.3)\n",
            "Requirement already satisfied: plotly>=5.10.0 in /usr/local/lib/python3.10/dist-packages (from copulas>=0.12.0->sdv) (5.24.1)\n",
            "Requirement already satisfied: scipy>=1.9.2 in /usr/local/lib/python3.10/dist-packages (from copulas>=0.12.0->sdv) (1.13.1)\n",
            "Requirement already satisfied: torch>=1.11.0 in /usr/local/lib/python3.10/dist-packages (from ctgan>=0.10.2->sdv) (2.5.1+cu121)\n",
            "Requirement already satisfied: pytz>=2020.1 in /usr/local/lib/python3.10/dist-packages (from pandas>=1.4.0->sdv) (2024.2)\n",
            "Requirement already satisfied: tzdata>=2022.7 in /usr/local/lib/python3.10/dist-packages (from pandas>=1.4.0->sdv) (2024.2)\n",
            "Requirement already satisfied: Faker>=17 in /usr/local/lib/python3.10/dist-packages (from rdt>=1.13.1->sdv) (33.0.0)\n",
            "Requirement already satisfied: scikit-learn>=1.1.0 in /usr/local/lib/python3.10/dist-packages (from rdt>=1.13.1->sdv) (1.5.2)\n",
            "Requirement already satisfied: typing-extensions in /usr/local/lib/python3.10/dist-packages (from Faker>=17->rdt>=1.13.1->sdv) (4.12.2)\n",
            "Requirement already satisfied: tenacity>=6.2.0 in /usr/local/lib/python3.10/dist-packages (from plotly>=5.10.0->copulas>=0.12.0->sdv) (9.0.0)\n",
            "Requirement already satisfied: packaging in /usr/local/lib/python3.10/dist-packages (from plotly>=5.10.0->copulas>=0.12.0->sdv) (24.2)\n",
            "Requirement already satisfied: six>=1.5 in /usr/local/lib/python3.10/dist-packages (from python-dateutil<3.0.0,>=2.1->botocore<2.0.0,>=1.31->sdv) (1.16.0)\n",
            "Requirement already satisfied: joblib>=1.2.0 in /usr/local/lib/python3.10/dist-packages (from scikit-learn>=1.1.0->rdt>=1.13.1->sdv) (1.4.2)\n",
            "Requirement already satisfied: threadpoolctl>=3.1.0 in /usr/local/lib/python3.10/dist-packages (from scikit-learn>=1.1.0->rdt>=1.13.1->sdv) (3.5.0)\n",
            "Requirement already satisfied: filelock in /usr/local/lib/python3.10/dist-packages (from torch>=1.11.0->ctgan>=0.10.2->sdv) (3.16.1)\n",
            "Requirement already satisfied: networkx in /usr/local/lib/python3.10/dist-packages (from torch>=1.11.0->ctgan>=0.10.2->sdv) (3.4.2)\n",
            "Requirement already satisfied: jinja2 in /usr/local/lib/python3.10/dist-packages (from torch>=1.11.0->ctgan>=0.10.2->sdv) (3.1.4)\n",
            "Requirement already satisfied: fsspec in /usr/local/lib/python3.10/dist-packages (from torch>=1.11.0->ctgan>=0.10.2->sdv) (2024.10.0)\n",
            "Requirement already satisfied: sympy==1.13.1 in /usr/local/lib/python3.10/dist-packages (from torch>=1.11.0->ctgan>=0.10.2->sdv) (1.13.1)\n",
            "Requirement already satisfied: mpmath<1.4,>=1.1.0 in /usr/local/lib/python3.10/dist-packages (from sympy==1.13.1->torch>=1.11.0->ctgan>=0.10.2->sdv) (1.3.0)\n",
            "Requirement already satisfied: MarkupSafe>=2.0 in /usr/local/lib/python3.10/dist-packages (from jinja2->torch>=1.11.0->ctgan>=0.10.2->sdv) (3.0.2)\n"
          ]
        }
      ],
      "source": [
        "!pip install sdv"
      ]
    },
    {
      "cell_type": "code",
      "source": [
        "import pandas as pd\n",
        "from sdv.single_table import CTGANSynthesizer\n",
        "from sdv.evaluation.single_table import run_diagnostic\n",
        "import numpy as np\n",
        "import datetime as dt\n",
        "\n",
        "\n",
        "# Load or create a dataset\n",
        "real_data = pd.read_csv('creditcard.csv')\n",
        "\n",
        "# We will need additional metadata as this dataset does not include much valuable metadata\n",
        "# For PCA complience all of them are encrypted.\n",
        "\n",
        "# External Metadata\n",
        "merchant_category = [\"Grocery\", \"Electronics\", \"Clothing\", \"Travel\", \"Restaurants\"]\n",
        "real_data[\"Merchant Category\"] = np.random.choice(merchant_category, size=len(real_data))\n",
        "\n",
        "device_type = [\"Mobile\", \"Desktop\", \"Tablet\"]\n",
        "real_data[\"Device Type\"] = np.random.choice(device_type, size=len(real_data))\n",
        "\n",
        "locations = [\"City A\", \"City B\", \"City C\"]\n",
        "real_data[\"Location\"] = np.random.choice(locations, size=len(real_data))\n",
        "\n",
        "# HEre we are using the existing time values from our real_data to calculate a time stamp for metadata\n",
        "timestamp_start = dt.datetime(2024, 11, 14)\n",
        "real_data[\"Transaction Timestamp\"] = real_data[\"Time\"].apply(lambda x: timestamp_start + dt.timedelta(seconds=x))\n",
        "\n",
        "payment_methods = [\"Credit Card\", \"Debit Card\", \"Apple Pay\", \"Google Pay\", \"Interact\"]\n",
        "real_data[\"Payment Method\"] = np.random.choice(payment_methods, size=len(real_data))\n",
        "\n",
        "channel = [\"Online\", \"In-Store\", \"POS\"]\n",
        "real_data[\"Channel\"] = np.random.choice(channel, size=len(real_data))\n",
        "\n",
        "season = [\"Winter\", \"Spring\", \"Summer\", \"Holiday\"]\n",
        "real_data[\"Season\"] = np.random.choice(season, size=len(real_data))\n",
        "\n",
        "card_types = [\"Visa\", \"MasterCard\", \"American Express\", \"Discover\"]\n",
        "real_data[\"Card Type\"] = np.random.choice(card_types, size=len(real_data))\n",
        "\n",
        "real_data.to_csv(\"augmented_creditcard.csv\", index=False)"
      ],
      "metadata": {
        "id": "ex1JdStyYkrJ"
      },
      "execution_count": 12,
      "outputs": []
    },
    {
      "cell_type": "code",
      "source": [
        "from sdv.metadata import SingleTableMetadata\n",
        "\n",
        "augmented_data = pd.read_csv(\"augmented_creditcard.csv\")\n",
        "\n",
        "metadata = SingleTableMetadata()\n",
        "metadata.detect_from_dataframe(augmented_data)\n",
        "\n",
        "print(metadata.to_dict())\n",
        "\n",
        "# Save metadata to json for later reading\n",
        "metadata.save_to_json(\"creditcard_metadata.json\")\n",
        "print(\"Metadata saved!\")"
      ],
      "metadata": {
        "colab": {
          "base_uri": "https://localhost:8080/"
        },
        "id": "GtCwBckPjdMx",
        "outputId": "1eafae7a-c1f0-4324-a11c-7406ca983642"
      },
      "execution_count": 13,
      "outputs": [
        {
          "output_type": "stream",
          "name": "stdout",
          "text": [
            "{'METADATA_SPEC_VERSION': 'SINGLE_TABLE_V1', 'columns': {'Time': {'sdtype': 'numerical'}, 'V1': {'sdtype': 'numerical'}, 'V2': {'sdtype': 'numerical'}, 'V3': {'sdtype': 'numerical'}, 'V4': {'sdtype': 'numerical'}, 'V5': {'sdtype': 'numerical'}, 'V6': {'sdtype': 'numerical'}, 'V7': {'sdtype': 'numerical'}, 'V8': {'sdtype': 'numerical'}, 'V9': {'sdtype': 'numerical'}, 'V10': {'sdtype': 'numerical'}, 'V11': {'sdtype': 'numerical'}, 'V12': {'sdtype': 'numerical'}, 'V13': {'sdtype': 'numerical'}, 'V14': {'sdtype': 'numerical'}, 'V15': {'sdtype': 'numerical'}, 'V16': {'sdtype': 'numerical'}, 'V17': {'sdtype': 'numerical'}, 'V18': {'sdtype': 'numerical'}, 'V19': {'sdtype': 'numerical'}, 'V20': {'sdtype': 'numerical'}, 'V21': {'sdtype': 'numerical'}, 'V22': {'sdtype': 'numerical'}, 'V23': {'sdtype': 'numerical'}, 'V24': {'sdtype': 'numerical'}, 'V25': {'sdtype': 'numerical'}, 'V26': {'sdtype': 'numerical'}, 'V27': {'sdtype': 'numerical'}, 'V28': {'sdtype': 'numerical'}, 'Amount': {'sdtype': 'numerical'}, 'Class': {'sdtype': 'categorical'}, 'Merchant Category': {'sdtype': 'categorical'}, 'Device Type': {'sdtype': 'categorical'}, 'Location': {'sdtype': 'categorical'}, 'Transaction Timestamp': {'sdtype': 'datetime', 'datetime_format': '%Y-%m-%d %H:%M:%S'}, 'Payment Method': {'sdtype': 'categorical'}, 'Channel': {'sdtype': 'categorical'}, 'Season': {'sdtype': 'categorical'}, 'Card Type': {'sdtype': 'categorical'}}}\n",
            "Metadata saved!\n"
          ]
        }
      ]
    }
  ]
}