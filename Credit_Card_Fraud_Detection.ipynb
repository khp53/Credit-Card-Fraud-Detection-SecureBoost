{
  "nbformat": 4,
  "nbformat_minor": 0,
  "metadata": {
    "colab": {
      "provenance": [],
      "gpuType": "T4",
      "machine_shape": "hm",
      "include_colab_link": true
    },
    "kernelspec": {
      "name": "python3",
      "display_name": "Python 3"
    },
    "language_info": {
      "name": "python"
    },
    "accelerator": "GPU"
  },
  "cells": [
    {
      "cell_type": "markdown",
      "metadata": {
        "id": "view-in-github",
        "colab_type": "text"
      },
      "source": [
        "<a href=\"https://colab.research.google.com/github/khp53/Credit-Card-Fraud-Detection-SecureBoost/blob/main/Credit_Card_Fraud_Detection.ipynb\" target=\"_parent\"><img src=\"https://colab.research.google.com/assets/colab-badge.svg\" alt=\"Open In Colab\"/></a>"
      ]
    },
    {
      "cell_type": "code",
      "execution_count": 1,
      "metadata": {
        "id": "-wA5ftHSYN62",
        "colab": {
          "base_uri": "https://localhost:8080/"
        },
        "outputId": "469f690c-cbbc-45f2-f899-03dc024e5228"
      },
      "outputs": [
        {
          "output_type": "stream",
          "name": "stdout",
          "text": [
            "Requirement already satisfied: sdv in /usr/local/lib/python3.10/dist-packages (1.17.2)\n",
            "Requirement already satisfied: boto3<2.0.0,>=1.28 in /usr/local/lib/python3.10/dist-packages (from sdv) (1.35.72)\n",
            "Requirement already satisfied: botocore<2.0.0,>=1.31 in /usr/local/lib/python3.10/dist-packages (from sdv) (1.35.72)\n",
            "Requirement already satisfied: cloudpickle>=2.1.0 in /usr/local/lib/python3.10/dist-packages (from sdv) (3.1.0)\n",
            "Requirement already satisfied: graphviz>=0.13.2 in /usr/local/lib/python3.10/dist-packages (from sdv) (0.20.3)\n",
            "Requirement already satisfied: tqdm>=4.29 in /usr/local/lib/python3.10/dist-packages (from sdv) (4.66.6)\n",
            "Requirement already satisfied: copulas>=0.12.0 in /usr/local/lib/python3.10/dist-packages (from sdv) (0.12.0)\n",
            "Requirement already satisfied: ctgan>=0.10.2 in /usr/local/lib/python3.10/dist-packages (from sdv) (0.10.2)\n",
            "Requirement already satisfied: deepecho>=0.6.1 in /usr/local/lib/python3.10/dist-packages (from sdv) (0.6.1)\n",
            "Requirement already satisfied: rdt>=1.13.1 in /usr/local/lib/python3.10/dist-packages (from sdv) (1.13.1)\n",
            "Requirement already satisfied: sdmetrics>=0.17.0 in /usr/local/lib/python3.10/dist-packages (from sdv) (0.17.0)\n",
            "Requirement already satisfied: platformdirs>=4.0 in /usr/local/lib/python3.10/dist-packages (from sdv) (4.3.6)\n",
            "Requirement already satisfied: pyyaml>=6.0.1 in /usr/local/lib/python3.10/dist-packages (from sdv) (6.0.2)\n",
            "Requirement already satisfied: pandas>=1.4.0 in /usr/local/lib/python3.10/dist-packages (from sdv) (1.5.3)\n",
            "Requirement already satisfied: numpy>=1.23.3 in /usr/local/lib/python3.10/dist-packages (from sdv) (1.25.2)\n",
            "Requirement already satisfied: jmespath<2.0.0,>=0.7.1 in /usr/local/lib/python3.10/dist-packages (from boto3<2.0.0,>=1.28->sdv) (1.0.1)\n",
            "Requirement already satisfied: s3transfer<0.11.0,>=0.10.0 in /usr/local/lib/python3.10/dist-packages (from boto3<2.0.0,>=1.28->sdv) (0.10.4)\n",
            "Requirement already satisfied: python-dateutil<3.0.0,>=2.1 in /usr/local/lib/python3.10/dist-packages (from botocore<2.0.0,>=1.31->sdv) (2.8.2)\n",
            "Requirement already satisfied: urllib3!=2.2.0,<3,>=1.25.4 in /usr/local/lib/python3.10/dist-packages (from botocore<2.0.0,>=1.31->sdv) (2.2.3)\n",
            "Requirement already satisfied: plotly>=5.10.0 in /usr/local/lib/python3.10/dist-packages (from copulas>=0.12.0->sdv) (5.24.1)\n",
            "Requirement already satisfied: scipy>=1.9.2 in /usr/local/lib/python3.10/dist-packages (from copulas>=0.12.0->sdv) (1.9.3)\n",
            "Requirement already satisfied: torch>=1.11.0 in /usr/local/lib/python3.10/dist-packages (from ctgan>=0.10.2->sdv) (2.5.1+cu121)\n",
            "Requirement already satisfied: pytz>=2020.1 in /usr/local/lib/python3.10/dist-packages (from pandas>=1.4.0->sdv) (2024.2)\n",
            "Requirement already satisfied: Faker>=17 in /usr/local/lib/python3.10/dist-packages (from rdt>=1.13.1->sdv) (33.1.0)\n",
            "Requirement already satisfied: scikit-learn>=1.1.0 in /usr/local/lib/python3.10/dist-packages (from rdt>=1.13.1->sdv) (1.5.2)\n",
            "Requirement already satisfied: typing-extensions in /usr/local/lib/python3.10/dist-packages (from Faker>=17->rdt>=1.13.1->sdv) (4.5.0)\n",
            "Requirement already satisfied: tenacity>=6.2.0 in /usr/local/lib/python3.10/dist-packages (from plotly>=5.10.0->copulas>=0.12.0->sdv) (9.0.0)\n",
            "Requirement already satisfied: packaging in /usr/local/lib/python3.10/dist-packages (from plotly>=5.10.0->copulas>=0.12.0->sdv) (22.0)\n",
            "Requirement already satisfied: six>=1.5 in /usr/local/lib/python3.10/dist-packages (from python-dateutil<3.0.0,>=2.1->botocore<2.0.0,>=1.31->sdv) (1.16.0)\n",
            "Requirement already satisfied: joblib>=1.2.0 in /usr/local/lib/python3.10/dist-packages (from scikit-learn>=1.1.0->rdt>=1.13.1->sdv) (1.4.2)\n",
            "Requirement already satisfied: threadpoolctl>=3.1.0 in /usr/local/lib/python3.10/dist-packages (from scikit-learn>=1.1.0->rdt>=1.13.1->sdv) (3.5.0)\n",
            "Requirement already satisfied: filelock in /usr/local/lib/python3.10/dist-packages (from torch>=1.11.0->ctgan>=0.10.2->sdv) (3.16.1)\n",
            "Collecting typing-extensions (from Faker>=17->rdt>=1.13.1->sdv)\n",
            "  Using cached typing_extensions-4.12.2-py3-none-any.whl.metadata (3.0 kB)\n",
            "Requirement already satisfied: networkx in /usr/local/lib/python3.10/dist-packages (from torch>=1.11.0->ctgan>=0.10.2->sdv) (3.4.2)\n",
            "Requirement already satisfied: jinja2 in /usr/local/lib/python3.10/dist-packages (from torch>=1.11.0->ctgan>=0.10.2->sdv) (3.1.4)\n",
            "Requirement already satisfied: fsspec in /usr/local/lib/python3.10/dist-packages (from torch>=1.11.0->ctgan>=0.10.2->sdv) (2024.10.0)\n",
            "Requirement already satisfied: sympy==1.13.1 in /usr/local/lib/python3.10/dist-packages (from torch>=1.11.0->ctgan>=0.10.2->sdv) (1.13.1)\n",
            "Requirement already satisfied: mpmath<1.4,>=1.1.0 in /usr/local/lib/python3.10/dist-packages (from sympy==1.13.1->torch>=1.11.0->ctgan>=0.10.2->sdv) (1.3.0)\n",
            "Requirement already satisfied: MarkupSafe>=2.0 in /usr/local/lib/python3.10/dist-packages (from jinja2->torch>=1.11.0->ctgan>=0.10.2->sdv) (3.0.2)\n",
            "Using cached typing_extensions-4.12.2-py3-none-any.whl (37 kB)\n",
            "Installing collected packages: typing-extensions\n",
            "  Attempting uninstall: typing-extensions\n",
            "    Found existing installation: typing_extensions 4.5.0\n",
            "    Uninstalling typing_extensions-4.5.0:\n",
            "      Successfully uninstalled typing_extensions-4.5.0\n",
            "\u001b[31mERROR: pip's dependency resolver does not currently take into account all the packages that are installed. This behaviour is the source of the following dependency conflicts.\n",
            "chex 0.1.87 requires jax>=0.4.27, but you have jax 0.4.14 which is incompatible.\n",
            "chex 0.1.87 requires jaxlib>=0.4.27, but you have jaxlib 0.4.14 which is incompatible.\n",
            "cudf-cu12 24.10.1 requires pandas<2.2.3dev0,>=2.0, but you have pandas 1.5.3 which is incompatible.\n",
            "flax 0.8.5 requires jax>=0.4.27, but you have jax 0.4.14 which is incompatible.\n",
            "langchain-core 0.3.19 requires packaging<25,>=23.2, but you have packaging 22.0 which is incompatible.\n",
            "optax 0.2.4 requires jax>=0.4.27, but you have jax 0.4.14 which is incompatible.\n",
            "optax 0.2.4 requires jaxlib>=0.4.27, but you have jaxlib 0.4.14 which is incompatible.\n",
            "orbax-checkpoint 0.6.4 requires jax>=0.4.26, but you have jax 0.4.14 which is incompatible.\n",
            "tensorflow-federated 0.84.0 requires typing-extensions==4.5.*,>=4.5.0, but you have typing-extensions 4.12.2 which is incompatible.\n",
            "tf-keras 2.17.0 requires tensorflow<2.18,>=2.17, but you have tensorflow 2.14.1 which is incompatible.\u001b[0m\u001b[31m\n",
            "\u001b[0mSuccessfully installed typing-extensions-4.12.2\n"
          ]
        }
      ],
      "source": [
        "!pip install sdv"
      ]
    },
    {
      "cell_type": "code",
      "source": [
        "import pandas as pd\n",
        "from sdv.single_table import CTGANSynthesizer\n",
        "from sdv.evaluation.single_table import run_diagnostic\n",
        "import numpy as np\n",
        "import datetime as dt"
      ],
      "metadata": {
        "id": "Q3H2xqUMQM8n"
      },
      "execution_count": 2,
      "outputs": []
    },
    {
      "cell_type": "code",
      "source": [
        "# Load or create a dataset\n",
        "real_data = pd.read_csv('creditcard.csv')\n",
        "\n",
        "# We will need additional metadata as this dataset does not include much valuable metadata\n",
        "# For PCI complience all of them are encrypted.\n",
        "\n",
        "# External Metadata\n",
        "merchant_category = [\"Grocery\", \"Electronics\", \"Clothing\", \"Travel\", \"Restaurants\"]\n",
        "real_data[\"Merchant Category\"] = np.random.choice(merchant_category, size=len(real_data))\n",
        "\n",
        "device_type = [\"Mobile\", \"Desktop\", \"Tablet\"]\n",
        "real_data[\"Device Type\"] = np.random.choice(device_type, size=len(real_data))\n",
        "\n",
        "locations = [\"City A\", \"City B\", \"City C\"]\n",
        "real_data[\"Location\"] = np.random.choice(locations, size=len(real_data))\n",
        "\n",
        "# HEre we are using the existing time values from our real_data to calculate a time stamp for metadata\n",
        "timestamp_start = dt.datetime(2022, 11, 14)\n",
        "real_data[\"Transaction Timestamp\"] = real_data[\"Time\"].apply(lambda x: timestamp_start + dt.timedelta(days=x))\n",
        "\n",
        "payment_methods = [\"Credit Card\", \"Debit Card\", \"Apple Pay\", \"Google Pay\", \"Interact\"]\n",
        "real_data[\"Payment Method\"] = np.random.choice(payment_methods, size=len(real_data))\n",
        "\n",
        "channel = [\"Online\", \"In-Store\", \"POS\"]\n",
        "real_data[\"Channel\"] = np.random.choice(channel, size=len(real_data))\n",
        "\n",
        "season = [\"Winter\", \"Spring\", \"Summer\", \"Holiday\"]\n",
        "real_data[\"Season\"] = np.random.choice(season, size=len(real_data))\n",
        "\n",
        "card_types = [\"Visa\", \"MasterCard\", \"American Express\", \"Discover\"]\n",
        "real_data[\"Card Type\"] = np.random.choice(card_types, size=len(real_data))\n",
        "\n",
        "real_data[\"Credit Limit\"] = np.random.uniform(1000, 10000, size=len(real_data))\n",
        "real_data[\"Cardholder Risk Score\"] = np.random.uniform(300, 850, size=len(real_data))\n",
        "real_data[\"Number of Active Cards\"] = np.random.randint(1, 5, size=len(real_data))\n",
        "real_data[\"Loyalty Points Available\"] = np.random.randint(0, 5000, size=len(real_data))"
      ],
      "metadata": {
        "id": "ex1JdStyYkrJ"
      },
      "execution_count": 3,
      "outputs": []
    },
    {
      "cell_type": "code",
      "source": [
        "def generate_card_id(card_type):\n",
        "    if card_type == 'Visa':\n",
        "        return '4' + ''.join(np.random.choice(list('0123456789'), size=15))\n",
        "    elif card_type == 'MasterCard':\n",
        "        prefix = np.random.choice(['51', '52', '53', '54', '55'] + [str(i) for i in range(2221, 2721)])\n",
        "        return prefix + ''.join(np.random.choice(list('0123456789'), size=16-len(prefix)))\n",
        "    elif card_type == 'American Express':\n",
        "        prefix = np.random.choice(['34', '37'])\n",
        "        return prefix + ''.join(np.random.choice(list('0123456789'), size=13))\n",
        "    elif card_type == 'Discover':\n",
        "        prefix = np.random.choice(['6011'] + [str(i) for i in range(622126, 622926)] + ['644', '645', '646', '647', '648', '649', '65'])\n",
        "        return prefix + ''.join(np.random.choice(list('0123456789'), size=16-len(prefix)))\n",
        "    else:\n",
        "        return None"
      ],
      "metadata": {
        "id": "N9s7U-0egaKN"
      },
      "execution_count": 4,
      "outputs": []
    },
    {
      "cell_type": "code",
      "source": [
        "real_data['Card ID'] = real_data['Card Type'].apply(generate_card_id)"
      ],
      "metadata": {
        "id": "3lwbWm6agck0"
      },
      "execution_count": 5,
      "outputs": []
    },
    {
      "cell_type": "code",
      "source": [
        "real_data.to_csv(\"augmented_creditcard.csv\", index=False)"
      ],
      "metadata": {
        "id": "yMYVN8cMggLd"
      },
      "execution_count": 6,
      "outputs": []
    },
    {
      "cell_type": "code",
      "source": [
        "from sdv.metadata import SingleTableMetadata\n",
        "\n",
        "augmented_data = pd.read_csv(\"augmented_creditcard.csv\")\n",
        "\n",
        "metadata = SingleTableMetadata()\n",
        "metadata.detect_from_dataframe(augmented_data)\n",
        "\n",
        "print(metadata.to_dict())\n",
        "\n",
        "# Save metadata to json for later reading\n",
        "metadata.save_to_json(\"creditcard_metadata.json\")\n",
        "print(\"Metadata saved!\")"
      ],
      "metadata": {
        "colab": {
          "base_uri": "https://localhost:8080/"
        },
        "id": "GtCwBckPjdMx",
        "outputId": "a68c254b-2854-4621-ce98-b4a7ba4c753d"
      },
      "execution_count": 7,
      "outputs": [
        {
          "output_type": "stream",
          "name": "stdout",
          "text": [
            "{'columns': {'Time': {'sdtype': 'numerical'}, 'V1': {'sdtype': 'numerical'}, 'V2': {'sdtype': 'numerical'}, 'V3': {'sdtype': 'numerical'}, 'V4': {'sdtype': 'numerical'}, 'V5': {'sdtype': 'numerical'}, 'V6': {'sdtype': 'numerical'}, 'V7': {'sdtype': 'numerical'}, 'V8': {'sdtype': 'numerical'}, 'V9': {'sdtype': 'numerical'}, 'V10': {'sdtype': 'numerical'}, 'V11': {'sdtype': 'numerical'}, 'V12': {'sdtype': 'numerical'}, 'V13': {'sdtype': 'numerical'}, 'V14': {'sdtype': 'numerical'}, 'V15': {'sdtype': 'numerical'}, 'V16': {'sdtype': 'numerical'}, 'V17': {'sdtype': 'numerical'}, 'V18': {'sdtype': 'numerical'}, 'V19': {'sdtype': 'numerical'}, 'V20': {'sdtype': 'numerical'}, 'V21': {'sdtype': 'numerical'}, 'V22': {'sdtype': 'numerical'}, 'V23': {'sdtype': 'numerical'}, 'V24': {'sdtype': 'numerical'}, 'V25': {'sdtype': 'numerical'}, 'V26': {'sdtype': 'numerical'}, 'V27': {'sdtype': 'numerical'}, 'V28': {'sdtype': 'numerical'}, 'Amount': {'sdtype': 'numerical'}, 'Class': {'sdtype': 'categorical'}, 'Merchant Category': {'sdtype': 'categorical'}, 'Device Type': {'sdtype': 'categorical'}, 'Location': {'sdtype': 'categorical'}, 'Transaction Timestamp': {'sdtype': 'unknown', 'pii': True}, 'Payment Method': {'sdtype': 'categorical'}, 'Channel': {'sdtype': 'categorical'}, 'Season': {'sdtype': 'categorical'}, 'Card Type': {'sdtype': 'categorical'}, 'Credit Limit': {'sdtype': 'numerical'}, 'Cardholder Risk Score': {'sdtype': 'numerical'}, 'Number of Active Cards': {'sdtype': 'categorical'}, 'Loyalty Points Available': {'sdtype': 'numerical'}, 'Card ID': {'sdtype': 'id'}}, 'METADATA_SPEC_VERSION': 'SINGLE_TABLE_V1', 'primary_key': 'Card ID'}\n",
            "Metadata saved!\n"
          ]
        }
      ]
    },
    {
      "cell_type": "markdown",
      "source": [
        "Synthesizer is hidden because creating synthetic data takes a lot of time. I have provided both initial dataset and sysnthesized dataset"
      ],
      "metadata": {
        "id": "HO04S9OfXeQr"
      }
    },
    {
      "cell_type": "code",
      "source": [
        "# json_metadata = SingleTableMetadata.load_from_json(\"creditcard_metadata.json\")\n",
        "\n",
        "# synthesizer = CTGANSynthesizer(json_metadata, epochs=100,\n",
        "#     verbose=True)\n",
        "# reduced_data = augmented_data.sample(frac=0.3, random_state=56)\n",
        "# synthesizer.fit(reduced_data)\n",
        "\n",
        "# synthetic_data = synthesizer.sample(num_rows=len(reduced_data))\n",
        "# print(synthetic_data.head(5))\n",
        "\n",
        "# synthetic_data.to_csv(\"synthetic_creditcard.csv\", index=False)"
      ],
      "metadata": {
        "id": "aO6_pkLnkd3Y"
      },
      "execution_count": 8,
      "outputs": []
    },
    {
      "cell_type": "code",
      "source": [
        "from sdv.evaluation.single_table import run_diagnostic\n",
        "\n",
        "synthetic_data_from_file = pd.read_csv(\"synthetic_creditcard.csv\")\n",
        "\n",
        "diagnostic = run_diagnostic(\n",
        "    real_data=augmented_data,\n",
        "    synthetic_data=synthetic_data_from_file,\n",
        "    metadata=metadata\n",
        ")"
      ],
      "metadata": {
        "id": "IefP2yH8M3ce",
        "colab": {
          "base_uri": "https://localhost:8080/"
        },
        "outputId": "88e7db51-933c-456b-9005-ef8bf3b5337c"
      },
      "execution_count": 9,
      "outputs": [
        {
          "output_type": "stream",
          "name": "stdout",
          "text": [
            "Generating report ...\n",
            "\n",
            "(1/2) Evaluating Data Validity: |██████████| 44/44 [00:00<00:00, 51.03it/s]|\n",
            "Data Validity Score: 100.0%\n",
            "\n",
            "(2/2) Evaluating Data Structure: |██████████| 1/1 [00:00<00:00, 248.88it/s]|\n",
            "Data Structure Score: 100.0%\n",
            "\n",
            "Overall Score (Average): 100.0%\n",
            "\n"
          ]
        }
      ]
    },
    {
      "cell_type": "code",
      "source": [
        "import hashlib\n",
        "\n",
        "# Function to hash the Card ID\n",
        "def hash_id(card_id):\n",
        "    return hashlib.sha256(str(card_id).encode()).hexdigest()\n",
        "\n",
        "# Hash Card ID in both datasets\n",
        "synthetic_data_from_file['Card ID'] = synthetic_data_from_file['Card ID'].apply(hash_id)\n",
        "\n",
        "synthetic_data_from_file.to_csv(\"synthetic_creditcard_hashed.csv\", index=False)"
      ],
      "metadata": {
        "id": "DOPl6MSJxjLs"
      },
      "execution_count": 10,
      "outputs": []
    },
    {
      "cell_type": "code",
      "source": [
        "synthetic_data_from_file.columns.values"
      ],
      "metadata": {
        "id": "CLPnKRYn6J3o",
        "colab": {
          "base_uri": "https://localhost:8080/"
        },
        "outputId": "682c84a4-1750-4de6-de71-53af62ffe702"
      },
      "execution_count": 12,
      "outputs": [
        {
          "output_type": "execute_result",
          "data": {
            "text/plain": [
              "array(['Time', 'V1', 'V2', 'V3', 'V4', 'V5', 'V6', 'V7', 'V8', 'V9',\n",
              "       'V10', 'V11', 'V12', 'V13', 'V14', 'V15', 'V16', 'V17', 'V18',\n",
              "       'V19', 'V20', 'V21', 'V22', 'V23', 'V24', 'V25', 'V26', 'V27',\n",
              "       'V28', 'Amount', 'Class', 'Merchant Category', 'Device Type',\n",
              "       'Location', 'Transaction Timestamp', 'Payment Method', 'Channel',\n",
              "       'Season', 'Card Type', 'Credit Limit', 'Cardholder Risk Score',\n",
              "       'Number of Active Cards', 'Loyalty Points Available', 'Card ID'],\n",
              "      dtype=object)"
            ]
          },
          "metadata": {},
          "execution_count": 12
        }
      ]
    },
    {
      "cell_type": "code",
      "source": [
        "bank_data = synthetic_data_from_file.drop(columns=['Merchant Category', 'Device Type', 'Location', 'Transaction Timestamp', 'Payment Method', 'Channel',\n",
        "       'Season'], axis=1)"
      ],
      "metadata": {
        "id": "FI700s2cZ7Nu"
      },
      "execution_count": 13,
      "outputs": []
    },
    {
      "cell_type": "code",
      "source": [
        "bank_data.columns.values"
      ],
      "metadata": {
        "id": "BCm7nzeiasDO",
        "colab": {
          "base_uri": "https://localhost:8080/"
        },
        "outputId": "93bff050-9e81-478b-fe7e-9de46335a844"
      },
      "execution_count": 14,
      "outputs": [
        {
          "output_type": "execute_result",
          "data": {
            "text/plain": [
              "array(['Time', 'V1', 'V2', 'V3', 'V4', 'V5', 'V6', 'V7', 'V8', 'V9',\n",
              "       'V10', 'V11', 'V12', 'V13', 'V14', 'V15', 'V16', 'V17', 'V18',\n",
              "       'V19', 'V20', 'V21', 'V22', 'V23', 'V24', 'V25', 'V26', 'V27',\n",
              "       'V28', 'Amount', 'Class', 'Card Type', 'Credit Limit',\n",
              "       'Cardholder Risk Score', 'Number of Active Cards',\n",
              "       'Loyalty Points Available', 'Card ID'], dtype=object)"
            ]
          },
          "metadata": {},
          "execution_count": 14
        }
      ]
    },
    {
      "cell_type": "code",
      "source": [
        "bank_data.head()"
      ],
      "metadata": {
        "id": "nO2vI7jJ5wlE",
        "colab": {
          "base_uri": "https://localhost:8080/",
          "height": 342
        },
        "outputId": "693019ba-0f7d-4111-f587-5cd7ca128f6c"
      },
      "execution_count": 15,
      "outputs": [
        {
          "output_type": "execute_result",
          "data": {
            "text/plain": [
              "      Time        V1        V2        V3        V4        V5        V6  \\\n",
              "0  68183.0 -2.555683  1.046685  1.020982  1.566225  3.022399  1.321870   \n",
              "1  71429.0  1.315486 -0.371440 -0.070024  0.281124  0.334142  0.887258   \n",
              "2  51993.0 -0.947109  1.290269  0.083987 -0.652643  1.661304 -0.653085   \n",
              "3  64155.0 -0.302848  1.081142  0.568993  2.189436  1.593832  0.074635   \n",
              "4  74694.0  2.004417 -0.660734 -0.561478 -0.188918  0.360716 -0.743623   \n",
              "\n",
              "         V7        V8        V9  ...       V27       V28  Amount  Class  \\\n",
              "0  1.108944 -0.072699 -0.509197  ...  0.462595 -0.174333    3.99      0   \n",
              "1  0.183357  0.269768  1.117159  ...  0.020163 -0.081519   15.54      0   \n",
              "2  0.879837 -0.047507 -0.120699  ...  0.270256 -0.017458   10.05      0   \n",
              "3  0.624375  0.803518 -0.288782  ...  0.009516 -0.093137   28.03      0   \n",
              "4  0.224457  0.000284 -0.476166  ...  0.192890  0.013850    0.00      0   \n",
              "\n",
              "          Card Type  Credit Limit  Cardholder Risk Score  \\\n",
              "0              Visa   1938.788822             452.095477   \n",
              "1          Discover   7064.134292             711.067184   \n",
              "2  American Express   6450.094268             396.961578   \n",
              "3              Visa   8966.061953             592.930310   \n",
              "4  American Express   4978.858676             520.304113   \n",
              "\n",
              "   Number of Active Cards  Loyalty Points Available  \\\n",
              "0                       2                      3390   \n",
              "1                       4                      3762   \n",
              "2                       4                      2404   \n",
              "3                       3                      2114   \n",
              "4                       3                      2302   \n",
              "\n",
              "                                             Card ID  \n",
              "0  f145035e066bdae40996c3f91d2df1af45510a084b4bc1...  \n",
              "1  58bd556902c91666aed510c00cee57b437940b08946505...  \n",
              "2  d1f2bafc6534a58843730b0587396bb419839ffd8f8b56...  \n",
              "3  8445d236758721671bd893fe817c0898fd281c114026a6...  \n",
              "4  9fa4f62edcd251b22fc386e19b05cff3fd5cc6401cf624...  \n",
              "\n",
              "[5 rows x 37 columns]"
            ],
            "text/html": [
              "\n",
              "  <div id=\"df-f888bee4-be99-4e44-a1bb-716409bd0eb0\" class=\"colab-df-container\">\n",
              "    <div>\n",
              "<style scoped>\n",
              "    .dataframe tbody tr th:only-of-type {\n",
              "        vertical-align: middle;\n",
              "    }\n",
              "\n",
              "    .dataframe tbody tr th {\n",
              "        vertical-align: top;\n",
              "    }\n",
              "\n",
              "    .dataframe thead th {\n",
              "        text-align: right;\n",
              "    }\n",
              "</style>\n",
              "<table border=\"1\" class=\"dataframe\">\n",
              "  <thead>\n",
              "    <tr style=\"text-align: right;\">\n",
              "      <th></th>\n",
              "      <th>Time</th>\n",
              "      <th>V1</th>\n",
              "      <th>V2</th>\n",
              "      <th>V3</th>\n",
              "      <th>V4</th>\n",
              "      <th>V5</th>\n",
              "      <th>V6</th>\n",
              "      <th>V7</th>\n",
              "      <th>V8</th>\n",
              "      <th>V9</th>\n",
              "      <th>...</th>\n",
              "      <th>V27</th>\n",
              "      <th>V28</th>\n",
              "      <th>Amount</th>\n",
              "      <th>Class</th>\n",
              "      <th>Card Type</th>\n",
              "      <th>Credit Limit</th>\n",
              "      <th>Cardholder Risk Score</th>\n",
              "      <th>Number of Active Cards</th>\n",
              "      <th>Loyalty Points Available</th>\n",
              "      <th>Card ID</th>\n",
              "    </tr>\n",
              "  </thead>\n",
              "  <tbody>\n",
              "    <tr>\n",
              "      <th>0</th>\n",
              "      <td>68183.0</td>\n",
              "      <td>-2.555683</td>\n",
              "      <td>1.046685</td>\n",
              "      <td>1.020982</td>\n",
              "      <td>1.566225</td>\n",
              "      <td>3.022399</td>\n",
              "      <td>1.321870</td>\n",
              "      <td>1.108944</td>\n",
              "      <td>-0.072699</td>\n",
              "      <td>-0.509197</td>\n",
              "      <td>...</td>\n",
              "      <td>0.462595</td>\n",
              "      <td>-0.174333</td>\n",
              "      <td>3.99</td>\n",
              "      <td>0</td>\n",
              "      <td>Visa</td>\n",
              "      <td>1938.788822</td>\n",
              "      <td>452.095477</td>\n",
              "      <td>2</td>\n",
              "      <td>3390</td>\n",
              "      <td>f145035e066bdae40996c3f91d2df1af45510a084b4bc1...</td>\n",
              "    </tr>\n",
              "    <tr>\n",
              "      <th>1</th>\n",
              "      <td>71429.0</td>\n",
              "      <td>1.315486</td>\n",
              "      <td>-0.371440</td>\n",
              "      <td>-0.070024</td>\n",
              "      <td>0.281124</td>\n",
              "      <td>0.334142</td>\n",
              "      <td>0.887258</td>\n",
              "      <td>0.183357</td>\n",
              "      <td>0.269768</td>\n",
              "      <td>1.117159</td>\n",
              "      <td>...</td>\n",
              "      <td>0.020163</td>\n",
              "      <td>-0.081519</td>\n",
              "      <td>15.54</td>\n",
              "      <td>0</td>\n",
              "      <td>Discover</td>\n",
              "      <td>7064.134292</td>\n",
              "      <td>711.067184</td>\n",
              "      <td>4</td>\n",
              "      <td>3762</td>\n",
              "      <td>58bd556902c91666aed510c00cee57b437940b08946505...</td>\n",
              "    </tr>\n",
              "    <tr>\n",
              "      <th>2</th>\n",
              "      <td>51993.0</td>\n",
              "      <td>-0.947109</td>\n",
              "      <td>1.290269</td>\n",
              "      <td>0.083987</td>\n",
              "      <td>-0.652643</td>\n",
              "      <td>1.661304</td>\n",
              "      <td>-0.653085</td>\n",
              "      <td>0.879837</td>\n",
              "      <td>-0.047507</td>\n",
              "      <td>-0.120699</td>\n",
              "      <td>...</td>\n",
              "      <td>0.270256</td>\n",
              "      <td>-0.017458</td>\n",
              "      <td>10.05</td>\n",
              "      <td>0</td>\n",
              "      <td>American Express</td>\n",
              "      <td>6450.094268</td>\n",
              "      <td>396.961578</td>\n",
              "      <td>4</td>\n",
              "      <td>2404</td>\n",
              "      <td>d1f2bafc6534a58843730b0587396bb419839ffd8f8b56...</td>\n",
              "    </tr>\n",
              "    <tr>\n",
              "      <th>3</th>\n",
              "      <td>64155.0</td>\n",
              "      <td>-0.302848</td>\n",
              "      <td>1.081142</td>\n",
              "      <td>0.568993</td>\n",
              "      <td>2.189436</td>\n",
              "      <td>1.593832</td>\n",
              "      <td>0.074635</td>\n",
              "      <td>0.624375</td>\n",
              "      <td>0.803518</td>\n",
              "      <td>-0.288782</td>\n",
              "      <td>...</td>\n",
              "      <td>0.009516</td>\n",
              "      <td>-0.093137</td>\n",
              "      <td>28.03</td>\n",
              "      <td>0</td>\n",
              "      <td>Visa</td>\n",
              "      <td>8966.061953</td>\n",
              "      <td>592.930310</td>\n",
              "      <td>3</td>\n",
              "      <td>2114</td>\n",
              "      <td>8445d236758721671bd893fe817c0898fd281c114026a6...</td>\n",
              "    </tr>\n",
              "    <tr>\n",
              "      <th>4</th>\n",
              "      <td>74694.0</td>\n",
              "      <td>2.004417</td>\n",
              "      <td>-0.660734</td>\n",
              "      <td>-0.561478</td>\n",
              "      <td>-0.188918</td>\n",
              "      <td>0.360716</td>\n",
              "      <td>-0.743623</td>\n",
              "      <td>0.224457</td>\n",
              "      <td>0.000284</td>\n",
              "      <td>-0.476166</td>\n",
              "      <td>...</td>\n",
              "      <td>0.192890</td>\n",
              "      <td>0.013850</td>\n",
              "      <td>0.00</td>\n",
              "      <td>0</td>\n",
              "      <td>American Express</td>\n",
              "      <td>4978.858676</td>\n",
              "      <td>520.304113</td>\n",
              "      <td>3</td>\n",
              "      <td>2302</td>\n",
              "      <td>9fa4f62edcd251b22fc386e19b05cff3fd5cc6401cf624...</td>\n",
              "    </tr>\n",
              "  </tbody>\n",
              "</table>\n",
              "<p>5 rows × 37 columns</p>\n",
              "</div>\n",
              "    <div class=\"colab-df-buttons\">\n",
              "\n",
              "  <div class=\"colab-df-container\">\n",
              "    <button class=\"colab-df-convert\" onclick=\"convertToInteractive('df-f888bee4-be99-4e44-a1bb-716409bd0eb0')\"\n",
              "            title=\"Convert this dataframe to an interactive table.\"\n",
              "            style=\"display:none;\">\n",
              "\n",
              "  <svg xmlns=\"http://www.w3.org/2000/svg\" height=\"24px\" viewBox=\"0 -960 960 960\">\n",
              "    <path d=\"M120-120v-720h720v720H120Zm60-500h600v-160H180v160Zm220 220h160v-160H400v160Zm0 220h160v-160H400v160ZM180-400h160v-160H180v160Zm440 0h160v-160H620v160ZM180-180h160v-160H180v160Zm440 0h160v-160H620v160Z\"/>\n",
              "  </svg>\n",
              "    </button>\n",
              "\n",
              "  <style>\n",
              "    .colab-df-container {\n",
              "      display:flex;\n",
              "      gap: 12px;\n",
              "    }\n",
              "\n",
              "    .colab-df-convert {\n",
              "      background-color: #E8F0FE;\n",
              "      border: none;\n",
              "      border-radius: 50%;\n",
              "      cursor: pointer;\n",
              "      display: none;\n",
              "      fill: #1967D2;\n",
              "      height: 32px;\n",
              "      padding: 0 0 0 0;\n",
              "      width: 32px;\n",
              "    }\n",
              "\n",
              "    .colab-df-convert:hover {\n",
              "      background-color: #E2EBFA;\n",
              "      box-shadow: 0px 1px 2px rgba(60, 64, 67, 0.3), 0px 1px 3px 1px rgba(60, 64, 67, 0.15);\n",
              "      fill: #174EA6;\n",
              "    }\n",
              "\n",
              "    .colab-df-buttons div {\n",
              "      margin-bottom: 4px;\n",
              "    }\n",
              "\n",
              "    [theme=dark] .colab-df-convert {\n",
              "      background-color: #3B4455;\n",
              "      fill: #D2E3FC;\n",
              "    }\n",
              "\n",
              "    [theme=dark] .colab-df-convert:hover {\n",
              "      background-color: #434B5C;\n",
              "      box-shadow: 0px 1px 3px 1px rgba(0, 0, 0, 0.15);\n",
              "      filter: drop-shadow(0px 1px 2px rgba(0, 0, 0, 0.3));\n",
              "      fill: #FFFFFF;\n",
              "    }\n",
              "  </style>\n",
              "\n",
              "    <script>\n",
              "      const buttonEl =\n",
              "        document.querySelector('#df-f888bee4-be99-4e44-a1bb-716409bd0eb0 button.colab-df-convert');\n",
              "      buttonEl.style.display =\n",
              "        google.colab.kernel.accessAllowed ? 'block' : 'none';\n",
              "\n",
              "      async function convertToInteractive(key) {\n",
              "        const element = document.querySelector('#df-f888bee4-be99-4e44-a1bb-716409bd0eb0');\n",
              "        const dataTable =\n",
              "          await google.colab.kernel.invokeFunction('convertToInteractive',\n",
              "                                                    [key], {});\n",
              "        if (!dataTable) return;\n",
              "\n",
              "        const docLinkHtml = 'Like what you see? Visit the ' +\n",
              "          '<a target=\"_blank\" href=https://colab.research.google.com/notebooks/data_table.ipynb>data table notebook</a>'\n",
              "          + ' to learn more about interactive tables.';\n",
              "        element.innerHTML = '';\n",
              "        dataTable['output_type'] = 'display_data';\n",
              "        await google.colab.output.renderOutput(dataTable, element);\n",
              "        const docLink = document.createElement('div');\n",
              "        docLink.innerHTML = docLinkHtml;\n",
              "        element.appendChild(docLink);\n",
              "      }\n",
              "    </script>\n",
              "  </div>\n",
              "\n",
              "\n",
              "<div id=\"df-eb8d8f9b-bfe4-4223-be56-53b7e514c5a4\">\n",
              "  <button class=\"colab-df-quickchart\" onclick=\"quickchart('df-eb8d8f9b-bfe4-4223-be56-53b7e514c5a4')\"\n",
              "            title=\"Suggest charts\"\n",
              "            style=\"display:none;\">\n",
              "\n",
              "<svg xmlns=\"http://www.w3.org/2000/svg\" height=\"24px\"viewBox=\"0 0 24 24\"\n",
              "     width=\"24px\">\n",
              "    <g>\n",
              "        <path d=\"M19 3H5c-1.1 0-2 .9-2 2v14c0 1.1.9 2 2 2h14c1.1 0 2-.9 2-2V5c0-1.1-.9-2-2-2zM9 17H7v-7h2v7zm4 0h-2V7h2v10zm4 0h-2v-4h2v4z\"/>\n",
              "    </g>\n",
              "</svg>\n",
              "  </button>\n",
              "\n",
              "<style>\n",
              "  .colab-df-quickchart {\n",
              "      --bg-color: #E8F0FE;\n",
              "      --fill-color: #1967D2;\n",
              "      --hover-bg-color: #E2EBFA;\n",
              "      --hover-fill-color: #174EA6;\n",
              "      --disabled-fill-color: #AAA;\n",
              "      --disabled-bg-color: #DDD;\n",
              "  }\n",
              "\n",
              "  [theme=dark] .colab-df-quickchart {\n",
              "      --bg-color: #3B4455;\n",
              "      --fill-color: #D2E3FC;\n",
              "      --hover-bg-color: #434B5C;\n",
              "      --hover-fill-color: #FFFFFF;\n",
              "      --disabled-bg-color: #3B4455;\n",
              "      --disabled-fill-color: #666;\n",
              "  }\n",
              "\n",
              "  .colab-df-quickchart {\n",
              "    background-color: var(--bg-color);\n",
              "    border: none;\n",
              "    border-radius: 50%;\n",
              "    cursor: pointer;\n",
              "    display: none;\n",
              "    fill: var(--fill-color);\n",
              "    height: 32px;\n",
              "    padding: 0;\n",
              "    width: 32px;\n",
              "  }\n",
              "\n",
              "  .colab-df-quickchart:hover {\n",
              "    background-color: var(--hover-bg-color);\n",
              "    box-shadow: 0 1px 2px rgba(60, 64, 67, 0.3), 0 1px 3px 1px rgba(60, 64, 67, 0.15);\n",
              "    fill: var(--button-hover-fill-color);\n",
              "  }\n",
              "\n",
              "  .colab-df-quickchart-complete:disabled,\n",
              "  .colab-df-quickchart-complete:disabled:hover {\n",
              "    background-color: var(--disabled-bg-color);\n",
              "    fill: var(--disabled-fill-color);\n",
              "    box-shadow: none;\n",
              "  }\n",
              "\n",
              "  .colab-df-spinner {\n",
              "    border: 2px solid var(--fill-color);\n",
              "    border-color: transparent;\n",
              "    border-bottom-color: var(--fill-color);\n",
              "    animation:\n",
              "      spin 1s steps(1) infinite;\n",
              "  }\n",
              "\n",
              "  @keyframes spin {\n",
              "    0% {\n",
              "      border-color: transparent;\n",
              "      border-bottom-color: var(--fill-color);\n",
              "      border-left-color: var(--fill-color);\n",
              "    }\n",
              "    20% {\n",
              "      border-color: transparent;\n",
              "      border-left-color: var(--fill-color);\n",
              "      border-top-color: var(--fill-color);\n",
              "    }\n",
              "    30% {\n",
              "      border-color: transparent;\n",
              "      border-left-color: var(--fill-color);\n",
              "      border-top-color: var(--fill-color);\n",
              "      border-right-color: var(--fill-color);\n",
              "    }\n",
              "    40% {\n",
              "      border-color: transparent;\n",
              "      border-right-color: var(--fill-color);\n",
              "      border-top-color: var(--fill-color);\n",
              "    }\n",
              "    60% {\n",
              "      border-color: transparent;\n",
              "      border-right-color: var(--fill-color);\n",
              "    }\n",
              "    80% {\n",
              "      border-color: transparent;\n",
              "      border-right-color: var(--fill-color);\n",
              "      border-bottom-color: var(--fill-color);\n",
              "    }\n",
              "    90% {\n",
              "      border-color: transparent;\n",
              "      border-bottom-color: var(--fill-color);\n",
              "    }\n",
              "  }\n",
              "</style>\n",
              "\n",
              "  <script>\n",
              "    async function quickchart(key) {\n",
              "      const quickchartButtonEl =\n",
              "        document.querySelector('#' + key + ' button');\n",
              "      quickchartButtonEl.disabled = true;  // To prevent multiple clicks.\n",
              "      quickchartButtonEl.classList.add('colab-df-spinner');\n",
              "      try {\n",
              "        const charts = await google.colab.kernel.invokeFunction(\n",
              "            'suggestCharts', [key], {});\n",
              "      } catch (error) {\n",
              "        console.error('Error during call to suggestCharts:', error);\n",
              "      }\n",
              "      quickchartButtonEl.classList.remove('colab-df-spinner');\n",
              "      quickchartButtonEl.classList.add('colab-df-quickchart-complete');\n",
              "    }\n",
              "    (() => {\n",
              "      let quickchartButtonEl =\n",
              "        document.querySelector('#df-eb8d8f9b-bfe4-4223-be56-53b7e514c5a4 button');\n",
              "      quickchartButtonEl.style.display =\n",
              "        google.colab.kernel.accessAllowed ? 'block' : 'none';\n",
              "    })();\n",
              "  </script>\n",
              "</div>\n",
              "\n",
              "    </div>\n",
              "  </div>\n"
            ],
            "application/vnd.google.colaboratory.intrinsic+json": {
              "type": "dataframe",
              "variable_name": "bank_data"
            }
          },
          "metadata": {},
          "execution_count": 15
        }
      ]
    },
    {
      "cell_type": "code",
      "source": [
        "synthetic_data_from_file = pd.read_csv(\"synthetic_creditcard_hashed.csv\")\n",
        "ecommerce_data = synthetic_data_from_file.drop(columns=['Credit Limit', 'Cardholder Risk Score',\n",
        "       'Number of Active Cards', 'Loyalty Points Available'], axis=1)"
      ],
      "metadata": {
        "id": "icyxrtuJax-J"
      },
      "execution_count": 16,
      "outputs": []
    },
    {
      "cell_type": "code",
      "source": [
        "ecommerce_data.columns.values"
      ],
      "metadata": {
        "id": "oGt8vG6qbCqb",
        "colab": {
          "base_uri": "https://localhost:8080/"
        },
        "outputId": "5845b120-f7fb-46d6-c9ec-d0ad68a5e26b"
      },
      "execution_count": 17,
      "outputs": [
        {
          "output_type": "execute_result",
          "data": {
            "text/plain": [
              "array(['Time', 'V1', 'V2', 'V3', 'V4', 'V5', 'V6', 'V7', 'V8', 'V9',\n",
              "       'V10', 'V11', 'V12', 'V13', 'V14', 'V15', 'V16', 'V17', 'V18',\n",
              "       'V19', 'V20', 'V21', 'V22', 'V23', 'V24', 'V25', 'V26', 'V27',\n",
              "       'V28', 'Amount', 'Class', 'Merchant Category', 'Device Type',\n",
              "       'Location', 'Transaction Timestamp', 'Payment Method', 'Channel',\n",
              "       'Season', 'Card Type', 'Card ID'], dtype=object)"
            ]
          },
          "metadata": {},
          "execution_count": 17
        }
      ]
    },
    {
      "cell_type": "code",
      "source": [
        "ecommerce_data.head()"
      ],
      "metadata": {
        "id": "dhUvIWhT5zGO",
        "colab": {
          "base_uri": "https://localhost:8080/",
          "height": 359
        },
        "outputId": "a6ede216-941f-445b-d6da-54fe82f37d31"
      },
      "execution_count": 18,
      "outputs": [
        {
          "output_type": "execute_result",
          "data": {
            "text/plain": [
              "      Time        V1        V2        V3        V4        V5        V6  \\\n",
              "0  68183.0 -2.555683  1.046685  1.020982  1.566225  3.022399  1.321870   \n",
              "1  71429.0  1.315486 -0.371440 -0.070024  0.281124  0.334142  0.887258   \n",
              "2  51993.0 -0.947109  1.290269  0.083987 -0.652643  1.661304 -0.653085   \n",
              "3  64155.0 -0.302848  1.081142  0.568993  2.189436  1.593832  0.074635   \n",
              "4  74694.0  2.004417 -0.660734 -0.561478 -0.188918  0.360716 -0.743623   \n",
              "\n",
              "         V7        V8        V9  ...  Class  Merchant Category  Device Type  \\\n",
              "0  1.108944 -0.072699 -0.509197  ...      0           Clothing       Tablet   \n",
              "1  0.183357  0.269768  1.117159  ...      0             Travel      Desktop   \n",
              "2  0.879837 -0.047507 -0.120699  ...      0            Grocery      Desktop   \n",
              "3  0.624375  0.803518 -0.288782  ...      0            Grocery       Mobile   \n",
              "4  0.224457  0.000284 -0.476166  ...      0        Restaurants       Mobile   \n",
              "\n",
              "   Location  Transaction Timestamp  Payment Method   Channel  Season  \\\n",
              "0    City A          sdv-pii-24p3x      Debit Card    Online  Summer   \n",
              "1    City B          sdv-pii-ngu20      Debit Card       POS  Spring   \n",
              "2    City B          sdv-pii-kp3sm      Google Pay  In-Store  Summer   \n",
              "3    City A          sdv-pii-u659p       Apple Pay    Online  Spring   \n",
              "4    City B          sdv-pii-ltoow       Apple Pay    Online  Spring   \n",
              "\n",
              "          Card Type                                            Card ID  \n",
              "0              Visa  f145035e066bdae40996c3f91d2df1af45510a084b4bc1...  \n",
              "1          Discover  58bd556902c91666aed510c00cee57b437940b08946505...  \n",
              "2  American Express  d1f2bafc6534a58843730b0587396bb419839ffd8f8b56...  \n",
              "3              Visa  8445d236758721671bd893fe817c0898fd281c114026a6...  \n",
              "4  American Express  9fa4f62edcd251b22fc386e19b05cff3fd5cc6401cf624...  \n",
              "\n",
              "[5 rows x 40 columns]"
            ],
            "text/html": [
              "\n",
              "  <div id=\"df-563b4f5b-3732-4ee6-bb9d-47a29fd0c5a8\" class=\"colab-df-container\">\n",
              "    <div>\n",
              "<style scoped>\n",
              "    .dataframe tbody tr th:only-of-type {\n",
              "        vertical-align: middle;\n",
              "    }\n",
              "\n",
              "    .dataframe tbody tr th {\n",
              "        vertical-align: top;\n",
              "    }\n",
              "\n",
              "    .dataframe thead th {\n",
              "        text-align: right;\n",
              "    }\n",
              "</style>\n",
              "<table border=\"1\" class=\"dataframe\">\n",
              "  <thead>\n",
              "    <tr style=\"text-align: right;\">\n",
              "      <th></th>\n",
              "      <th>Time</th>\n",
              "      <th>V1</th>\n",
              "      <th>V2</th>\n",
              "      <th>V3</th>\n",
              "      <th>V4</th>\n",
              "      <th>V5</th>\n",
              "      <th>V6</th>\n",
              "      <th>V7</th>\n",
              "      <th>V8</th>\n",
              "      <th>V9</th>\n",
              "      <th>...</th>\n",
              "      <th>Class</th>\n",
              "      <th>Merchant Category</th>\n",
              "      <th>Device Type</th>\n",
              "      <th>Location</th>\n",
              "      <th>Transaction Timestamp</th>\n",
              "      <th>Payment Method</th>\n",
              "      <th>Channel</th>\n",
              "      <th>Season</th>\n",
              "      <th>Card Type</th>\n",
              "      <th>Card ID</th>\n",
              "    </tr>\n",
              "  </thead>\n",
              "  <tbody>\n",
              "    <tr>\n",
              "      <th>0</th>\n",
              "      <td>68183.0</td>\n",
              "      <td>-2.555683</td>\n",
              "      <td>1.046685</td>\n",
              "      <td>1.020982</td>\n",
              "      <td>1.566225</td>\n",
              "      <td>3.022399</td>\n",
              "      <td>1.321870</td>\n",
              "      <td>1.108944</td>\n",
              "      <td>-0.072699</td>\n",
              "      <td>-0.509197</td>\n",
              "      <td>...</td>\n",
              "      <td>0</td>\n",
              "      <td>Clothing</td>\n",
              "      <td>Tablet</td>\n",
              "      <td>City A</td>\n",
              "      <td>sdv-pii-24p3x</td>\n",
              "      <td>Debit Card</td>\n",
              "      <td>Online</td>\n",
              "      <td>Summer</td>\n",
              "      <td>Visa</td>\n",
              "      <td>f145035e066bdae40996c3f91d2df1af45510a084b4bc1...</td>\n",
              "    </tr>\n",
              "    <tr>\n",
              "      <th>1</th>\n",
              "      <td>71429.0</td>\n",
              "      <td>1.315486</td>\n",
              "      <td>-0.371440</td>\n",
              "      <td>-0.070024</td>\n",
              "      <td>0.281124</td>\n",
              "      <td>0.334142</td>\n",
              "      <td>0.887258</td>\n",
              "      <td>0.183357</td>\n",
              "      <td>0.269768</td>\n",
              "      <td>1.117159</td>\n",
              "      <td>...</td>\n",
              "      <td>0</td>\n",
              "      <td>Travel</td>\n",
              "      <td>Desktop</td>\n",
              "      <td>City B</td>\n",
              "      <td>sdv-pii-ngu20</td>\n",
              "      <td>Debit Card</td>\n",
              "      <td>POS</td>\n",
              "      <td>Spring</td>\n",
              "      <td>Discover</td>\n",
              "      <td>58bd556902c91666aed510c00cee57b437940b08946505...</td>\n",
              "    </tr>\n",
              "    <tr>\n",
              "      <th>2</th>\n",
              "      <td>51993.0</td>\n",
              "      <td>-0.947109</td>\n",
              "      <td>1.290269</td>\n",
              "      <td>0.083987</td>\n",
              "      <td>-0.652643</td>\n",
              "      <td>1.661304</td>\n",
              "      <td>-0.653085</td>\n",
              "      <td>0.879837</td>\n",
              "      <td>-0.047507</td>\n",
              "      <td>-0.120699</td>\n",
              "      <td>...</td>\n",
              "      <td>0</td>\n",
              "      <td>Grocery</td>\n",
              "      <td>Desktop</td>\n",
              "      <td>City B</td>\n",
              "      <td>sdv-pii-kp3sm</td>\n",
              "      <td>Google Pay</td>\n",
              "      <td>In-Store</td>\n",
              "      <td>Summer</td>\n",
              "      <td>American Express</td>\n",
              "      <td>d1f2bafc6534a58843730b0587396bb419839ffd8f8b56...</td>\n",
              "    </tr>\n",
              "    <tr>\n",
              "      <th>3</th>\n",
              "      <td>64155.0</td>\n",
              "      <td>-0.302848</td>\n",
              "      <td>1.081142</td>\n",
              "      <td>0.568993</td>\n",
              "      <td>2.189436</td>\n",
              "      <td>1.593832</td>\n",
              "      <td>0.074635</td>\n",
              "      <td>0.624375</td>\n",
              "      <td>0.803518</td>\n",
              "      <td>-0.288782</td>\n",
              "      <td>...</td>\n",
              "      <td>0</td>\n",
              "      <td>Grocery</td>\n",
              "      <td>Mobile</td>\n",
              "      <td>City A</td>\n",
              "      <td>sdv-pii-u659p</td>\n",
              "      <td>Apple Pay</td>\n",
              "      <td>Online</td>\n",
              "      <td>Spring</td>\n",
              "      <td>Visa</td>\n",
              "      <td>8445d236758721671bd893fe817c0898fd281c114026a6...</td>\n",
              "    </tr>\n",
              "    <tr>\n",
              "      <th>4</th>\n",
              "      <td>74694.0</td>\n",
              "      <td>2.004417</td>\n",
              "      <td>-0.660734</td>\n",
              "      <td>-0.561478</td>\n",
              "      <td>-0.188918</td>\n",
              "      <td>0.360716</td>\n",
              "      <td>-0.743623</td>\n",
              "      <td>0.224457</td>\n",
              "      <td>0.000284</td>\n",
              "      <td>-0.476166</td>\n",
              "      <td>...</td>\n",
              "      <td>0</td>\n",
              "      <td>Restaurants</td>\n",
              "      <td>Mobile</td>\n",
              "      <td>City B</td>\n",
              "      <td>sdv-pii-ltoow</td>\n",
              "      <td>Apple Pay</td>\n",
              "      <td>Online</td>\n",
              "      <td>Spring</td>\n",
              "      <td>American Express</td>\n",
              "      <td>9fa4f62edcd251b22fc386e19b05cff3fd5cc6401cf624...</td>\n",
              "    </tr>\n",
              "  </tbody>\n",
              "</table>\n",
              "<p>5 rows × 40 columns</p>\n",
              "</div>\n",
              "    <div class=\"colab-df-buttons\">\n",
              "\n",
              "  <div class=\"colab-df-container\">\n",
              "    <button class=\"colab-df-convert\" onclick=\"convertToInteractive('df-563b4f5b-3732-4ee6-bb9d-47a29fd0c5a8')\"\n",
              "            title=\"Convert this dataframe to an interactive table.\"\n",
              "            style=\"display:none;\">\n",
              "\n",
              "  <svg xmlns=\"http://www.w3.org/2000/svg\" height=\"24px\" viewBox=\"0 -960 960 960\">\n",
              "    <path d=\"M120-120v-720h720v720H120Zm60-500h600v-160H180v160Zm220 220h160v-160H400v160Zm0 220h160v-160H400v160ZM180-400h160v-160H180v160Zm440 0h160v-160H620v160ZM180-180h160v-160H180v160Zm440 0h160v-160H620v160Z\"/>\n",
              "  </svg>\n",
              "    </button>\n",
              "\n",
              "  <style>\n",
              "    .colab-df-container {\n",
              "      display:flex;\n",
              "      gap: 12px;\n",
              "    }\n",
              "\n",
              "    .colab-df-convert {\n",
              "      background-color: #E8F0FE;\n",
              "      border: none;\n",
              "      border-radius: 50%;\n",
              "      cursor: pointer;\n",
              "      display: none;\n",
              "      fill: #1967D2;\n",
              "      height: 32px;\n",
              "      padding: 0 0 0 0;\n",
              "      width: 32px;\n",
              "    }\n",
              "\n",
              "    .colab-df-convert:hover {\n",
              "      background-color: #E2EBFA;\n",
              "      box-shadow: 0px 1px 2px rgba(60, 64, 67, 0.3), 0px 1px 3px 1px rgba(60, 64, 67, 0.15);\n",
              "      fill: #174EA6;\n",
              "    }\n",
              "\n",
              "    .colab-df-buttons div {\n",
              "      margin-bottom: 4px;\n",
              "    }\n",
              "\n",
              "    [theme=dark] .colab-df-convert {\n",
              "      background-color: #3B4455;\n",
              "      fill: #D2E3FC;\n",
              "    }\n",
              "\n",
              "    [theme=dark] .colab-df-convert:hover {\n",
              "      background-color: #434B5C;\n",
              "      box-shadow: 0px 1px 3px 1px rgba(0, 0, 0, 0.15);\n",
              "      filter: drop-shadow(0px 1px 2px rgba(0, 0, 0, 0.3));\n",
              "      fill: #FFFFFF;\n",
              "    }\n",
              "  </style>\n",
              "\n",
              "    <script>\n",
              "      const buttonEl =\n",
              "        document.querySelector('#df-563b4f5b-3732-4ee6-bb9d-47a29fd0c5a8 button.colab-df-convert');\n",
              "      buttonEl.style.display =\n",
              "        google.colab.kernel.accessAllowed ? 'block' : 'none';\n",
              "\n",
              "      async function convertToInteractive(key) {\n",
              "        const element = document.querySelector('#df-563b4f5b-3732-4ee6-bb9d-47a29fd0c5a8');\n",
              "        const dataTable =\n",
              "          await google.colab.kernel.invokeFunction('convertToInteractive',\n",
              "                                                    [key], {});\n",
              "        if (!dataTable) return;\n",
              "\n",
              "        const docLinkHtml = 'Like what you see? Visit the ' +\n",
              "          '<a target=\"_blank\" href=https://colab.research.google.com/notebooks/data_table.ipynb>data table notebook</a>'\n",
              "          + ' to learn more about interactive tables.';\n",
              "        element.innerHTML = '';\n",
              "        dataTable['output_type'] = 'display_data';\n",
              "        await google.colab.output.renderOutput(dataTable, element);\n",
              "        const docLink = document.createElement('div');\n",
              "        docLink.innerHTML = docLinkHtml;\n",
              "        element.appendChild(docLink);\n",
              "      }\n",
              "    </script>\n",
              "  </div>\n",
              "\n",
              "\n",
              "<div id=\"df-674f23cf-2d36-4586-b2c5-64e3a3c883a3\">\n",
              "  <button class=\"colab-df-quickchart\" onclick=\"quickchart('df-674f23cf-2d36-4586-b2c5-64e3a3c883a3')\"\n",
              "            title=\"Suggest charts\"\n",
              "            style=\"display:none;\">\n",
              "\n",
              "<svg xmlns=\"http://www.w3.org/2000/svg\" height=\"24px\"viewBox=\"0 0 24 24\"\n",
              "     width=\"24px\">\n",
              "    <g>\n",
              "        <path d=\"M19 3H5c-1.1 0-2 .9-2 2v14c0 1.1.9 2 2 2h14c1.1 0 2-.9 2-2V5c0-1.1-.9-2-2-2zM9 17H7v-7h2v7zm4 0h-2V7h2v10zm4 0h-2v-4h2v4z\"/>\n",
              "    </g>\n",
              "</svg>\n",
              "  </button>\n",
              "\n",
              "<style>\n",
              "  .colab-df-quickchart {\n",
              "      --bg-color: #E8F0FE;\n",
              "      --fill-color: #1967D2;\n",
              "      --hover-bg-color: #E2EBFA;\n",
              "      --hover-fill-color: #174EA6;\n",
              "      --disabled-fill-color: #AAA;\n",
              "      --disabled-bg-color: #DDD;\n",
              "  }\n",
              "\n",
              "  [theme=dark] .colab-df-quickchart {\n",
              "      --bg-color: #3B4455;\n",
              "      --fill-color: #D2E3FC;\n",
              "      --hover-bg-color: #434B5C;\n",
              "      --hover-fill-color: #FFFFFF;\n",
              "      --disabled-bg-color: #3B4455;\n",
              "      --disabled-fill-color: #666;\n",
              "  }\n",
              "\n",
              "  .colab-df-quickchart {\n",
              "    background-color: var(--bg-color);\n",
              "    border: none;\n",
              "    border-radius: 50%;\n",
              "    cursor: pointer;\n",
              "    display: none;\n",
              "    fill: var(--fill-color);\n",
              "    height: 32px;\n",
              "    padding: 0;\n",
              "    width: 32px;\n",
              "  }\n",
              "\n",
              "  .colab-df-quickchart:hover {\n",
              "    background-color: var(--hover-bg-color);\n",
              "    box-shadow: 0 1px 2px rgba(60, 64, 67, 0.3), 0 1px 3px 1px rgba(60, 64, 67, 0.15);\n",
              "    fill: var(--button-hover-fill-color);\n",
              "  }\n",
              "\n",
              "  .colab-df-quickchart-complete:disabled,\n",
              "  .colab-df-quickchart-complete:disabled:hover {\n",
              "    background-color: var(--disabled-bg-color);\n",
              "    fill: var(--disabled-fill-color);\n",
              "    box-shadow: none;\n",
              "  }\n",
              "\n",
              "  .colab-df-spinner {\n",
              "    border: 2px solid var(--fill-color);\n",
              "    border-color: transparent;\n",
              "    border-bottom-color: var(--fill-color);\n",
              "    animation:\n",
              "      spin 1s steps(1) infinite;\n",
              "  }\n",
              "\n",
              "  @keyframes spin {\n",
              "    0% {\n",
              "      border-color: transparent;\n",
              "      border-bottom-color: var(--fill-color);\n",
              "      border-left-color: var(--fill-color);\n",
              "    }\n",
              "    20% {\n",
              "      border-color: transparent;\n",
              "      border-left-color: var(--fill-color);\n",
              "      border-top-color: var(--fill-color);\n",
              "    }\n",
              "    30% {\n",
              "      border-color: transparent;\n",
              "      border-left-color: var(--fill-color);\n",
              "      border-top-color: var(--fill-color);\n",
              "      border-right-color: var(--fill-color);\n",
              "    }\n",
              "    40% {\n",
              "      border-color: transparent;\n",
              "      border-right-color: var(--fill-color);\n",
              "      border-top-color: var(--fill-color);\n",
              "    }\n",
              "    60% {\n",
              "      border-color: transparent;\n",
              "      border-right-color: var(--fill-color);\n",
              "    }\n",
              "    80% {\n",
              "      border-color: transparent;\n",
              "      border-right-color: var(--fill-color);\n",
              "      border-bottom-color: var(--fill-color);\n",
              "    }\n",
              "    90% {\n",
              "      border-color: transparent;\n",
              "      border-bottom-color: var(--fill-color);\n",
              "    }\n",
              "  }\n",
              "</style>\n",
              "\n",
              "  <script>\n",
              "    async function quickchart(key) {\n",
              "      const quickchartButtonEl =\n",
              "        document.querySelector('#' + key + ' button');\n",
              "      quickchartButtonEl.disabled = true;  // To prevent multiple clicks.\n",
              "      quickchartButtonEl.classList.add('colab-df-spinner');\n",
              "      try {\n",
              "        const charts = await google.colab.kernel.invokeFunction(\n",
              "            'suggestCharts', [key], {});\n",
              "      } catch (error) {\n",
              "        console.error('Error during call to suggestCharts:', error);\n",
              "      }\n",
              "      quickchartButtonEl.classList.remove('colab-df-spinner');\n",
              "      quickchartButtonEl.classList.add('colab-df-quickchart-complete');\n",
              "    }\n",
              "    (() => {\n",
              "      let quickchartButtonEl =\n",
              "        document.querySelector('#df-674f23cf-2d36-4586-b2c5-64e3a3c883a3 button');\n",
              "      quickchartButtonEl.style.display =\n",
              "        google.colab.kernel.accessAllowed ? 'block' : 'none';\n",
              "    })();\n",
              "  </script>\n",
              "</div>\n",
              "\n",
              "    </div>\n",
              "  </div>\n"
            ],
            "application/vnd.google.colaboratory.intrinsic+json": {
              "type": "dataframe",
              "variable_name": "ecommerce_data"
            }
          },
          "metadata": {},
          "execution_count": 18
        }
      ]
    },
    {
      "cell_type": "code",
      "source": [
        "# Check for shared card hashes between datasets\n",
        "shared_card_hashes = set(ecommerce_data['Card ID']).intersection(set(bank_data['Card ID']))\n",
        "print(f\"Number of shared card hashes: {len(shared_card_hashes)}\")"
      ],
      "metadata": {
        "id": "xa3WdX0U73-Z",
        "colab": {
          "base_uri": "https://localhost:8080/"
        },
        "outputId": "b0ad2017-7cd3-4432-833d-3e55578a3187"
      },
      "execution_count": 19,
      "outputs": [
        {
          "output_type": "stream",
          "name": "stdout",
          "text": [
            "Number of shared card hashes: 85442\n"
          ]
        }
      ]
    },
    {
      "cell_type": "markdown",
      "source": [
        "Data Preprocessing"
      ],
      "metadata": {
        "id": "LLe2ZR_2hJCV"
      }
    },
    {
      "cell_type": "markdown",
      "source": [
        "Check for distrubition of PCI features V1 to V28, they should be already standarized but I am checking to ensure."
      ],
      "metadata": {
        "id": "RHjEVjbJiSnm"
      }
    },
    {
      "cell_type": "code",
      "source": [
        "# # Get a statistical summary of V1 to V28\n",
        "# pca_columns = [f'V{i}' for i in range(1, 29)]\n",
        "# bank_data[pca_columns].describe()"
      ],
      "metadata": {
        "id": "vSr1Be2uiSNE"
      },
      "execution_count": 20,
      "outputs": []
    },
    {
      "cell_type": "markdown",
      "source": [
        "Observation from description:\n",
        "\n",
        "The mean for V1 to V28 is close to 0, which aligns with expectations for PCA-transformed data.\n",
        "\n",
        "The standard deviation (std) varies across components. While some are close to 1, others deviate significantly (e.g., V1 has std ≈ 1.97, V2 ≈ 1.69, and so on). This suggests that the PCA components are not uniformly scaled, which could affect models sensitive to feature magnitudes.\n",
        "\n",
        "The min/max values for certain features indicate the presence of extreme outliers. For example:\n",
        "V4 has a minimum of -113.74 and a maximum of 34.80.\n",
        "V7 has a maximum of 120.59.\n",
        "These extreme values may skew the distributions and impact model performance if left unhandled."
      ],
      "metadata": {
        "id": "Jc2jrnI4jUch"
      }
    },
    {
      "cell_type": "markdown",
      "source": [
        "Creating density plots to check if they center around 0 with similar shapes."
      ],
      "metadata": {
        "id": "t5e0CqYgjEJA"
      }
    },
    {
      "cell_type": "code",
      "source": [
        "# import matplotlib.pyplot as plt\n",
        "\n",
        "# for column in pca_columns:\n",
        "#     bank_data[column].plot(kind='density', figsize=(6, 4), title=f'Density Plot of {column}')\n",
        "#     plt.xlabel(column)\n",
        "#     plt.show()"
      ],
      "metadata": {
        "id": "STy_AAGDjNLH"
      },
      "execution_count": 21,
      "outputs": []
    },
    {
      "cell_type": "markdown",
      "source": [
        "Even though most of the PCA features shape around 0, some fully don't, to mitigate this we are gonna scale all the PCA features as well."
      ],
      "metadata": {
        "id": "tR31gKg2kes-"
      }
    },
    {
      "cell_type": "markdown",
      "source": [
        "Shared features"
      ],
      "metadata": {
        "id": "lJ_hxVt2hLdx"
      }
    },
    {
      "cell_type": "code",
      "source": [
        "# from sklearn.preprocessing import StandardScaler\n",
        "\n",
        "# # Standardize PCA fetaures (V1 to V28)\n",
        "# pca_columns = [f'V{i}' for i in range(1, 29)]\n",
        "# scaler = StandardScaler()\n",
        "# bank_data[pca_columns] = scaler.fit_transform(bank_data[pca_columns])\n",
        "# ecommerce_data[pca_columns] = scaler.transform(ecommerce_data[pca_columns])\n"
      ],
      "metadata": {
        "id": "R5qjIW6Zkr0X"
      },
      "execution_count": 22,
      "outputs": []
    },
    {
      "cell_type": "markdown",
      "source": [
        "Check their distribution after scalling"
      ],
      "metadata": {
        "id": "3YVUXu6vk088"
      }
    },
    {
      "cell_type": "code",
      "source": [
        "# for column in pca_columns:\n",
        "#     bank_data[column].plot(kind='density', figsize=(6, 4), title=f'Density Plot of {column}')\n",
        "#     plt.xlabel(column)\n",
        "#     plt.show()"
      ],
      "metadata": {
        "id": "TOdJuRi4k48c"
      },
      "execution_count": 23,
      "outputs": []
    },
    {
      "cell_type": "code",
      "source": [
        "# bank_data[pca_columns].describe()"
      ],
      "metadata": {
        "id": "1AX556VxlhRH"
      },
      "execution_count": 24,
      "outputs": []
    },
    {
      "cell_type": "markdown",
      "source": [
        "Mean: The mean for all features is close to 0 (within floating-point precision limits). This is expected and aligns with standardization.\n",
        "\n",
        "Standard Deviation: The standard deviation for all features is close to 1. This ensures that all features contribute equally during model training.\n",
        "\n",
        "Min/Max: The ranges of some features still show extreme values. For example:\n",
        "V6 has a maximum of 54.46 and V7 has a maximum of 95.35.\n",
        "These values are much higher than the typical range (-3 to +3) expected for standardized data, indicating the presence of outliers.\n",
        "\n",
        "If outliers have big impact on the model then might need to add RobustScaler instead of StandardScaler."
      ],
      "metadata": {
        "id": "N3kunEDnl-uR"
      }
    },
    {
      "cell_type": "markdown",
      "source": [
        "We do not need to add any sort of standarization in Class, Card IDs features.\n",
        "\n",
        "Class --> is a label to detect if this transaction is fraudulant or not.\n",
        "\n",
        "Card ID --> is an identifier which was int object but to hide the Card data to comply with PCI DSS complience we sort of Hashed it so this does not need or we cannot scale a string object."
      ],
      "metadata": {
        "id": "eFnAi8aamzT2"
      }
    },
    {
      "cell_type": "markdown",
      "source": [
        "\n",
        "\n",
        "```\n",
        "\n",
        "```\n",
        "\n",
        "Modified Data prep pipeline, the ones above was used to produce insights on the data, can be commented out to check."
      ],
      "metadata": {
        "id": "a8J6q-XyXqNk"
      }
    },
    {
      "cell_type": "code",
      "source": [
        "# Sort both datasets by Card ID for alignment\n",
        "X_bank_aligned = bank_data.sort_values('Card ID').reset_index(drop=True)\n",
        "X_ecommerce_aligned = ecommerce_datasort_values('Card ID').reset_index(drop=True)\n",
        "\n",
        "# Remove class labels from ecommerce_data\n",
        "if 'Class' in X_ecommerce_aligned.columns:\n",
        "    X_ecommerce_aligned = X_ecommerce_aligned.drop(columns=['Class'])\n",
        "\n",
        "# Confirm alignment\n",
        "assert all(X_bank_aligned['Card ID'] == X_ecommerce_aligned['Card ID']), \"Card IDs are not aligned!\""
      ],
      "metadata": {
        "id": "fgEXam4y6o4J"
      },
      "execution_count": 25,
      "outputs": []
    },
    {
      "cell_type": "code",
      "source": [
        "import pandas as pd\n",
        "import numpy as np\n",
        "import matplotlib.pyplot as plt\n",
        "import seaborn as sns\n",
        "\n",
        "colors = ['blue','yellow']\n",
        "fraud = len(X_bank_aligned[X_bank_aligned['Class'] == 1]) / len(X_bank_aligned) * 100\n",
        "nofraud = len(X_bank_aligned[X_bank_aligned['Class'] == 0]) / len(X_bank_aligned) * 100\n",
        "fraud_percentage = [nofraud,fraud]\n",
        "\n",
        "fig,ax = plt.subplots(nrows = 1,ncols = 2,figsize = (20,5))\n",
        "plt.subplot(1,2,1)\n",
        "plt.pie(fraud_percentage,labels = ['Fraud','No Fraud'],autopct='%1.1f%%',startangle = 90,colors = colors,\n",
        "       wedgeprops = {'edgecolor' : 'black','linewidth': 1,'antialiased' : True})\n",
        "\n",
        "plt.subplot(1,2,2)\n",
        "ax = sns.countplot(x='Class',data = X_bank_aligned, edgecolor = 'black', palette = colors)\n",
        "for rect in ax.patches:\n",
        "    ax.text(rect.get_x() + rect.get_width() / 2, rect.get_height() + 2, rect.get_height(), horizontalalignment='center', fontsize = 11)\n",
        "ax.set_xticklabels(['No Fraud','Fraud'])\n",
        "plt.title('Number of Fraud Cases');"
      ],
      "metadata": {
        "colab": {
          "base_uri": "https://localhost:8080/",
          "height": 559
        },
        "id": "2wIqmWabDeKq",
        "outputId": "d4da5bc1-4a84-4ef9-ad4f-001a918d33eb"
      },
      "execution_count": 26,
      "outputs": [
        {
          "output_type": "stream",
          "name": "stderr",
          "text": [
            "<ipython-input-26-f96c7bab80c5>:16: FutureWarning: \n",
            "\n",
            "Passing `palette` without assigning `hue` is deprecated and will be removed in v0.14.0. Assign the `x` variable to `hue` and set `legend=False` for the same effect.\n",
            "\n",
            "  ax = sns.countplot(x='Class',data = X_bank_aligned, edgecolor = 'black', palette = colors)\n",
            "<ipython-input-26-f96c7bab80c5>:19: UserWarning: set_ticklabels() should only be used with a fixed number of ticks, i.e. after set_ticks() or using a FixedLocator.\n",
            "  ax.set_xticklabels(['No Fraud','Fraud'])\n"
          ]
        },
        {
          "output_type": "display_data",
          "data": {
            "text/plain": [
              "<Figure size 2000x500 with 2 Axes>"
            ],
            "image/png": "[encoded data removed]"
          },
          "metadata": {}
        }
      ]
    },
    {
      "cell_type": "code",
      "source": [
        "from sklearn.model_selection import train_test_split\n",
        "from sklearn.preprocessing import StandardScaler\n",
        "from sklearn.pipeline import Pipeline\n",
        "from sklearn.impute import SimpleImputer\n",
        "from imblearn.over_sampling import SMOTE\n",
        "import tensorflow as tf\n",
        "\n",
        "# Steps below describes how the preprocess pipeline has been Established\n",
        "#\n",
        "# -------------------------------\n",
        "# Step 1: Define Shared and Specific Features\n",
        "# -------------------------------\n",
        "\n",
        "# Shared numerical features\n",
        "shared_numerical_features = ['Time', 'Amount'] + [f'V{i}' for i in range(1, 29)]\n",
        "\n",
        "# Shared categorical features\n",
        "shared_categorical_features = ['Card Type', 'Card ID']\n",
        "\n",
        "# Bank-specific numerical features\n",
        "bank_specific_numerical_features = ['Credit Limit', 'Cardholder Risk Score', 'Number of Active Cards', 'Loyalty Points Available']\n",
        "\n",
        "# E-commerce-specific categorical features\n",
        "ecommerce_specific_categorical_features = ['Merchant Category', 'Payment Method', 'Channel', 'Location', 'Device Type', 'Season']\n",
        "\n",
        "# -------------------------------\n",
        "# Step 2: Prepare Bank Data\n",
        "# -------------------------------\n",
        "\n",
        "# Separate features and labels\n",
        "X_bank = X_bank_aligned[shared_numerical_features + shared_categorical_features + bank_specific_numerical_features]\n",
        "y_bank = X_bank_aligned['Class']\n",
        "\n",
        "# Split bank data into training and test sets\n",
        "X_bank_train, X_bank_test, y_bank_train, y_bank_test = train_test_split(\n",
        "    X_bank, y_bank, test_size=0.2, random_state=42, stratify=y_bank)\n",
        "\n",
        "# -------------------------------\n",
        "# Step 3: Prepare E-commerce Data\n",
        "# -------------------------------\n",
        "\n",
        "X_ecommerce = X_ecommerce_aligned[shared_numerical_features + shared_categorical_features + ecommerce_specific_categorical_features]\n",
        "\n",
        "# -------------------------------\n",
        "# Step 4: Apply Frequency Encoding to Categorical Features\n",
        "# -------------------------------\n",
        "\n",
        "def compute_frequency_map(df, categorical_cols):\n",
        "    freq_maps = {}\n",
        "    for col in categorical_cols:\n",
        "        freq_maps[col] = df[col].value_counts()\n",
        "    return freq_maps\n",
        "\n",
        "def apply_frequency_encoding(df, freq_maps):\n",
        "    df = df.copy()\n",
        "    for col, freq in freq_maps.items():\n",
        "        df[col + '_freq'] = df[col].map(freq).fillna(0)\n",
        "    return df\n",
        "\n",
        "# 4.a. Compute frequency maps for shared categorical features using bank training data\n",
        "shared_freq_maps = compute_frequency_map(X_bank_train, shared_categorical_features)\n",
        "\n",
        "# 4.b. Apply frequency encoding to shared categorical features in bank data\n",
        "X_bank_train_encoded = apply_frequency_encoding(X_bank_train, shared_freq_maps)\n",
        "X_bank_test_encoded = apply_frequency_encoding(X_bank_test, shared_freq_maps)\n",
        "\n",
        "# 4.c. Apply frequency encoding to shared categorical features in e-commerce data\n",
        "X_ecommerce_encoded = apply_frequency_encoding(X_ecommerce, shared_freq_maps)\n",
        "\n",
        "# 4.d. Compute frequency maps for e-commerce-specific categorical features using e-commerce data\n",
        "ecommerce_freq_maps = compute_frequency_map(X_ecommerce, ecommerce_specific_categorical_features)\n",
        "\n",
        "# 4.e. Apply frequency encoding to e-commerce-specific categorical features in e-commerce data\n",
        "X_ecommerce_encoded = apply_frequency_encoding(X_ecommerce_encoded, ecommerce_freq_maps)\n",
        "\n",
        "# 4.f. Drop original categorical features\n",
        "X_bank_train_encoded.drop(columns=shared_categorical_features, inplace=True)\n",
        "X_bank_test_encoded.drop(columns=shared_categorical_features, inplace=True)\n",
        "X_ecommerce_encoded.drop(columns=shared_categorical_features + ecommerce_specific_categorical_features, inplace=True)\n",
        "\n",
        "# 4.g. Add placeholder columns for e-commerce-specific encoded features in bank data\n",
        "for col in ecommerce_specific_categorical_features:\n",
        "    encoded_col = col + '_freq'\n",
        "    X_bank_train_encoded[encoded_col] = 0\n",
        "    X_bank_test_encoded[encoded_col] = 0\n",
        "\n",
        "# -------------------------------\n",
        "# Step 5: Extract and Process Time Features from E-commerce Data\n",
        "# -------------------------------\n",
        "\n",
        "# Function to extract time features\n",
        "def extract_time_features(df):\n",
        "    df = df.copy()\n",
        "    df['Transaction Timestamp'] = pd.to_datetime(df['Transaction Timestamp'], errors='coerce')\n",
        "    df['hour'] = df['Transaction Timestamp'].dt.hour.fillna(0)\n",
        "    df['day_of_week'] = df['Transaction Timestamp'].dt.dayofweek.fillna(0)\n",
        "    df['month'] = df['Transaction Timestamp'].dt.month.fillna(0)\n",
        "    return df[['hour', 'day_of_week', 'month']]\n",
        "\n",
        "# Extract time features from e-commerce data\n",
        "ecommerce_time_features = extract_time_features(ecommerce_data)\n",
        "\n",
        "# Add time features to e-commerce data\n",
        "X_ecommerce_encoded.reset_index(drop=True, inplace=True)\n",
        "ecommerce_time_features.reset_index(drop=True, inplace=True)\n",
        "X_ecommerce_encoded = pd.concat([X_ecommerce_encoded, ecommerce_time_features], axis=1)\n",
        "\n",
        "# Add placeholder time features to bank data\n",
        "for col in ['hour', 'day_of_week', 'month']:\n",
        "    X_bank_train_encoded[col] = 0\n",
        "    X_bank_test_encoded[col] = 0\n",
        "\n",
        "\n",
        "# Add placeholder columns for bank-specific features in e-commerce data\n",
        "for col in bank_specific_numerical_features:\n",
        "    X_ecommerce_encoded[col] = 0\n",
        "\n",
        "# -------------------------------\n",
        "# Step 6: Preprocess Numerical Features\n",
        "# -------------------------------\n",
        "\n",
        "# Create lists of frequency-encoded feature names\n",
        "shared_freq_encoded_features = [col + '_freq' for col in shared_categorical_features]\n",
        "ecommerce_specific_freq_encoded_features = [col + '_freq' for col in ecommerce_specific_categorical_features]\n",
        "time_feature_cols = ['hour', 'day_of_week', 'month']\n",
        "\n",
        "# Combine all feature names\n",
        "all_features = shared_numerical_features + shared_freq_encoded_features + \\\n",
        "               bank_specific_numerical_features + ecommerce_specific_freq_encoded_features + \\\n",
        "               time_feature_cols\n",
        "\n",
        "# Ensure all DataFrames have the same columns in the same order\n",
        "X_bank_train_encoded = X_bank_train_encoded[all_features]\n",
        "X_bank_test_encoded = X_bank_test_encoded[all_features]\n",
        "X_ecommerce_encoded = X_ecommerce_encoded[all_features]\n",
        "\n",
        "# Fill any missing values with zeros\n",
        "X_bank_train_encoded.fillna(0, inplace=True)\n",
        "X_bank_test_encoded.fillna(0, inplace=True)\n",
        "X_ecommerce_encoded.fillna(0, inplace=True)\n",
        "\n",
        "# Define numerical transformer\n",
        "numerical_transformer = Pipeline(steps=[\n",
        "    ('imputer', SimpleImputer(strategy='mean')),\n",
        "    ('scaler', StandardScaler())\n",
        "])\n",
        "\n",
        "# Fit transformer on the bank's training data\n",
        "numerical_transformer.fit(X_bank_train_encoded)\n",
        "\n",
        "# Transform bank data\n",
        "X_bank_train_processed = numerical_transformer.transform(X_bank_train_encoded)\n",
        "X_bank_test_processed = numerical_transformer.transform(X_bank_test_encoded)\n",
        "\n",
        "# Transform e-commerce data\n",
        "X_ecommerce_processed = numerical_transformer.transform(X_ecommerce_encoded)\n",
        "\n",
        "# -------------------------------\n",
        "# Step 7: Apply SMOTE to Bank Training Data\n",
        "# -------------------------------\n",
        "\n",
        "# Apply SMOTE after preprocessing\n",
        "smote = SMOTE(random_state=42)\n",
        "X_bank_train_resampled, y_bank_train_resampled = smote.fit_resample(X_bank_train_processed, y_bank_train)\n",
        "\n",
        "# -------------------------------\n",
        "# Step 8: Prepare Data for Federated Learning\n",
        "# -------------------------------\n",
        "\n",
        "# Convert bank test labels to numpy array\n",
        "y_bank_test = y_bank_test.values\n",
        "\n",
        "# -------------------------------\n",
        "# Step 9: Create TensorFlow Datasets\n",
        "# -------------------------------\n",
        "\n",
        "# Bank data (labeled)\n",
        "# Convert bank training labels to integers\n",
        "y_bank_train_resampled = y_bank_train_resampled.astype(np.int64)\n",
        "\n",
        "# Convert bank test labels to integers\n",
        "y_bank_test = y_bank_test.astype(np.int64)\n",
        "\n",
        "bank_train_data = tf.data.Dataset.from_tensor_slices((X_bank_train_resampled, y_bank_train_resampled))\n",
        "bank_test_data = tf.data.Dataset.from_tensor_slices((X_bank_test_processed, y_bank_test))\n",
        "\n",
        "# E-commerce data (unlabeled)\n",
        "pseudo_labels_ecommerce = np.zeros(len(X_ecommerce_processed), dtype=np.int64)\n",
        "ecommerce_data_tf = tf.data.Dataset.from_tensor_slices((X_ecommerce_processed, pseudo_labels_ecommerce))\n",
        "\n",
        "# -------------------------------\n",
        "# Step 10: Preprocess Datasets for Training\n",
        "# -------------------------------\n",
        "\n",
        "def preprocess(dataset):\n",
        "    return dataset.shuffle(buffer_size=1024).batch(32)\n",
        "\n",
        "# Preprocess datasets\n",
        "bank_client_data = preprocess(bank_train_data)\n",
        "ecommerce_client_data = preprocess(ecommerce_data_tf)\n",
        "\n",
        "# Federated dataset\n",
        "federated_train_data = [bank_client_data, ecommerce_client_data]\n",
        "\n",
        "# -------------------------------\n",
        "# Step 11: Verify Data Shapes\n",
        "# -------------------------------\n",
        "\n",
        "print(\"Bank training data shape:\", X_bank_train_resampled.shape)\n",
        "print(\"Bank test data shape:\", X_bank_test_processed.shape)\n",
        "print(\"E-commerce data shape:\", X_ecommerce_processed.shape)\n",
        "\n",
        "# All shapes should match in the number of columns\n",
        "assert X_bank_train_resampled.shape[1] == X_bank_test_processed.shape[1] == X_ecommerce_processed.shape[1], \\\n",
        "    \"Feature dimensions do not match across datasets.\"\n",
        "\n",
        "# -------------------------------\n",
        "# Use this dataset (federated_train_data) for model training !!IMPORTANT\n",
        "# -------------------------------\n"
      ],
      "metadata": {
        "colab": {
          "base_uri": "https://localhost:8080/"
        },
        "id": "5L02uEMS6boY",
        "outputId": "995e9a66-2e08-472e-d68e-0bfe16445fbd"
      },
      "execution_count": 27,
      "outputs": [
        {
          "output_type": "stream",
          "name": "stderr",
          "text": [
            "ERROR:jax._src.xla_bridge:Jax plugin configuration error: Exception when calling jax_plugins.xla_cuda12.initialize()\n",
            "Traceback (most recent call last):\n",
            "  File \"/usr/local/lib/python3.10/dist-packages/jax/_src/xla_bridge.py\", line 438, in discover_pjrt_plugins\n",
            "    plugin_module.initialize()\n",
            "  File \"/usr/local/lib/python3.10/dist-packages/jax_plugins/xla_cuda12/__init__.py\", line 85, in initialize\n",
            "    options = xla_client.generate_pjrt_gpu_plugin_options()\n",
            "AttributeError: module 'jaxlib.xla_client' has no attribute 'generate_pjrt_gpu_plugin_options'\n"
          ]
        },
        {
          "output_type": "stream",
          "name": "stdout",
          "text": [
            "Bank training data shape: (132058, 45)\n",
            "Bank test data shape: (17089, 45)\n",
            "E-commerce data shape: (85442, 45)\n"
          ]
        }
      ]
    },
    {
      "cell_type": "code",
      "source": [
        "y_bank_train_resampled.head()"
      ],
      "metadata": {
        "colab": {
          "base_uri": "https://localhost:8080/",
          "height": 241
        },
        "id": "hEVxOPtOHS5h",
        "outputId": "c447c284-30f9-4af4-aacd-a49b1bcca404"
      },
      "execution_count": 28,
      "outputs": [
        {
          "output_type": "execute_result",
          "data": {
            "text/plain": [
              "0    0\n",
              "1    0\n",
              "2    0\n",
              "3    0\n",
              "4    0\n",
              "Name: Class, dtype: int64"
            ],
            "text/html": [
              "<div>\n",
              "<style scoped>\n",
              "    .dataframe tbody tr th:only-of-type {\n",
              "        vertical-align: middle;\n",
              "    }\n",
              "\n",
              "    .dataframe tbody tr th {\n",
              "        vertical-align: top;\n",
              "    }\n",
              "\n",
              "    .dataframe thead th {\n",
              "        text-align: right;\n",
              "    }\n",
              "</style>\n",
              "<table border=\"1\" class=\"dataframe\">\n",
              "  <thead>\n",
              "    <tr style=\"text-align: right;\">\n",
              "      <th></th>\n",
              "      <th>Class</th>\n",
              "    </tr>\n",
              "  </thead>\n",
              "  <tbody>\n",
              "    <tr>\n",
              "      <th>0</th>\n",
              "      <td>0</td>\n",
              "    </tr>\n",
              "    <tr>\n",
              "      <th>1</th>\n",
              "      <td>0</td>\n",
              "    </tr>\n",
              "    <tr>\n",
              "      <th>2</th>\n",
              "      <td>0</td>\n",
              "    </tr>\n",
              "    <tr>\n",
              "      <th>3</th>\n",
              "      <td>0</td>\n",
              "    </tr>\n",
              "    <tr>\n",
              "      <th>4</th>\n",
              "      <td>0</td>\n",
              "    </tr>\n",
              "  </tbody>\n",
              "</table>\n",
              "</div><br><label><b>dtype:</b> int64</label>"
            ]
          },
          "metadata": {},
          "execution_count": 28
        }
      ]
    },
    {
      "cell_type": "code",
      "source": [
        "import pandas as pd\n",
        "import numpy as np\n",
        "import matplotlib.pyplot as plt\n",
        "import seaborn as sns\n",
        "colors = ['blue','yellow']\n",
        "fraud = len(y_bank_train_resampled[y_bank_train_resampled == 1]) / len(y_bank_train_resampled) * 100\n",
        "nofraud = len(y_bank_train_resampled[y_bank_train_resampled == 0]) / len(y_bank_train_resampled) * 100\n",
        "fraud_percentage = [nofraud,fraud]\n",
        "\n",
        "plt.subplot(1,2,1)\n",
        "plt.pie(fraud_percentage,labels = ['Fraud','No Fraud'],autopct='%1.1f%%',startangle = 90,colors = colors,\n",
        "       wedgeprops = {'edgecolor' : 'black','linewidth': 1,'antialiased' : True})"
      ],
      "metadata": {
        "colab": {
          "base_uri": "https://localhost:8080/",
          "height": 366
        },
        "id": "c-c-ejLyFsLF",
        "outputId": "939d0e57-2ffe-4e1e-e23a-67d0b61f3611"
      },
      "execution_count": 29,
      "outputs": [
        {
          "output_type": "execute_result",
          "data": {
            "text/plain": [
              "([<matplotlib.patches.Wedge at 0x7b1d15b0ceb0>,\n",
              "  <matplotlib.patches.Wedge at 0x7b1d15afdc00>],\n",
              " [Text(-1.1, 1.3471114790620887e-16, 'Fraud'),\n",
              "  Text(1.1, -2.6942229581241775e-16, 'No Fraud')],\n",
              " [Text(-0.6, 7.347880794884119e-17, '50.0%'),\n",
              "  Text(0.6, -1.4695761589768238e-16, '50.0%')])"
            ]
          },
          "metadata": {},
          "execution_count": 29
        },
        {
          "output_type": "display_data",
          "data": {
            "text/plain": [
              "<Figure size 640x480 with 1 Axes>"
            ],
            "image/png": "[encoded data removed]"
          },
          "metadata": {}
        }
      ]
    },
    {
      "cell_type": "markdown",
      "source": [
        "A lot of trail and error was done, did not want to remove the code so commented it out, uncommenting will break the project !!IMPORTANT"
      ],
      "metadata": {
        "id": "a3hSWU24YpBL"
      }
    },
    {
      "cell_type": "code",
      "source": [
        "# X_bank_final = X_bank_final.astype('float32')\n",
        "# X_ecommerce_final = X_ecommerce_final.astype('float32')\n",
        "# y_bank = y_bank.astype('int8')\n",
        "\n",
        "# X_bank_final = X_bank_final.reset_index(drop=True)\n",
        "# X_ecommerce_final = X_ecommerce_final.reset_index(drop=True)\n",
        "# y_bank = y_bank.reset_index(drop=True)\n",
        "\n",
        "# from scipy.sparse import csr_matrix\n",
        "\n",
        "# # Ensure data is sparse\n",
        "# X_bank_final_sparse = csr_matrix(X_bank_final)\n",
        "\n",
        "# # Train-test split for the bank dataset\n",
        "# X_bank_train, X_bank_test, y_bank_train, y_bank_test = train_test_split(\n",
        "#     X_bank_final_sparse, y_bank, test_size=0.2, stratify=y_bank, random_state=42\n",
        "# )\n",
        "# print(f\"X_bank_train shape: {X_bank_train.shape}\")\n",
        "# print(f\"X_bank_test shape: {X_bank_test.shape}\")\n",
        "\n"
      ],
      "metadata": {
        "id": "4ROMt8f2WTqe"
      },
      "execution_count": 30,
      "outputs": []
    },
    {
      "cell_type": "code",
      "source": [
        "# X_bank_train_dense = pd.DataFrame(X_bank_train.toarray())\n",
        "# X_bank_test_dense = pd.DataFrame(X_bank_test.toarray())\n",
        "\n",
        "# train_indices = X_bank_train_dense.index.values\n",
        "# test_indices = X_bank_test_dense.index.values\n",
        "\n",
        "# # Align e-commerce dataset with the bank dataset splits\n",
        "# # e_commerce_train = X_ecommerce_final.iloc[train_indices, :]\n",
        "# # e_commerce_test = X_ecommerce_final.iloc[test_indices, :]\n",
        "\n",
        "# X_ecommerce_sparse = csr_matrix(X_ecommerce_final)\n",
        "\n",
        "# e_commerce_train = X_ecommerce_sparse[X_bank_train_dense.index]\n",
        "# e_commerce_test = X_ecommerce_sparse[X_bank_test_dense.index]"
      ],
      "metadata": {
        "id": "H7zU-RWcRtxL"
      },
      "execution_count": 31,
      "outputs": []
    },
    {
      "cell_type": "code",
      "source": [
        "# print(f\"e_commerce_train shape: {e_commerce_train.shape}\")\n",
        "# print(f\"e_commerce_test shape: {e_commerce_test.shape}\")"
      ],
      "metadata": {
        "id": "Lxduw-0-UzLg"
      },
      "execution_count": 32,
      "outputs": []
    },
    {
      "cell_type": "code",
      "source": [
        "# e_commerce_train_dense = pd.DataFrame(e_commerce_train.toarray())\n",
        "# e_commerce_test_dense = pd.DataFrame(e_commerce_test.toarray())"
      ],
      "metadata": {
        "id": "5rLrkYvtUmkG"
      },
      "execution_count": 33,
      "outputs": []
    },
    {
      "cell_type": "code",
      "source": [
        "# X_bank_train_dense.to_csv(\"X_bank_train_dense.csv\", index=False)\n",
        "# X_bank_test_dense.to_csv(\"X_bank_test_dense.csv\", index=False)\n",
        "# y_bank_train.to_csv(\"y_bank_train.csv\", index=False)\n",
        "# y_bank_test.to_csv(\"y_bank_test.csv\", index=False)\n",
        "\n",
        "# e_commerce_train_dense.to_csv(\"e_commerce_train_dense.csv\", index=False)\n",
        "# e_commerce_test_dense.to_csv(\"e_commerce_test_dense.csv\", index=False)"
      ],
      "metadata": {
        "id": "z6HCf_nRQF1r"
      },
      "execution_count": 34,
      "outputs": []
    },
    {
      "cell_type": "markdown",
      "source": [
        "Resampleling can only be applied to active party since it holds the lable."
      ],
      "metadata": {
        "id": "SenoU1rNXNFx"
      }
    },
    {
      "cell_type": "code",
      "source": [
        "# from imblearn.over_sampling import SMOTE\n",
        "# from sklearn.compose import ColumnTransformer\n",
        "# from sklearn.pipeline import Pipeline\n",
        "# from sklearn.preprocessing import StandardScaler, OneHotEncoder\n",
        "# import pandas as pd\n",
        "\n",
        "# # Fetch the data from csv\n",
        "# X_bank_train = pd.read_csv('X_bank_train_dense.csv', low_memory=True, parse_dates=False, nrows=15000)\n",
        "# X_bank_test = pd.read_csv('X_bank_test_dense.csv', low_memory=True, parse_dates=False, nrows=15000)\n",
        "\n",
        "# y_bank_train = pd.read_csv('y_bank_train.csv', low_memory=True, parse_dates=False, nrows=15000)\n",
        "# y_bank_test = pd.read_csv('y_bank_test.csv', low_memory=True, parse_dates=False, nrows=15000)\n",
        "\n",
        "# e_commerce_train = pd.read_csv('e_commerce_train_dense.csv', low_memory=True, parse_dates=False, nrows=15000)\n",
        "# e_commerce_test = pd.read_csv('e_commerce_test_dense.csv', low_memory=True, parse_dates=False, nrows=15000)\n",
        "\n",
        "# # Apply SMOTE to the bank dataset (requires labels)\n",
        "# smote = SMOTE(random_state=42)\n",
        "# X_bank_train_resampled, y_bank_train_resampled = smote.fit_resample(X_bank_train, y_bank_train)\n",
        "\n",
        "# # Checking results\n",
        "# print(f\"Original X_bank_train shape: {X_bank_train.shape}\")\n",
        "# print(f\"Resampled X_bank_train shape: {X_bank_train_resampled.shape}\")\n",
        "# print(f\"Original y_bank_train distribution:\\n{y_bank_train.value_counts()}\")\n",
        "# print(f\"Resampled y_bank_train distribution:\\n{pd.Series(y_bank_train_resampled).value_counts()}\")"
      ],
      "metadata": {
        "id": "pSeDGKIQZrEs"
      },
      "execution_count": 35,
      "outputs": []
    },
    {
      "cell_type": "code",
      "source": [
        "# X_bank_train_resampled.to_csv(\"X_bank_train_resampled.csv\", index=False)\n",
        "# y_bank_train_resampled.to_csv(\"y_bank_train_resampled.csv\", index=False)"
      ],
      "metadata": {
        "id": "T5oo8kZsXhhg"
      },
      "execution_count": 36,
      "outputs": []
    },
    {
      "cell_type": "code",
      "source": [
        "# from sklearn.datasets import dump_svmlight_file\n",
        "\n",
        "# # Save bank sparse data in LibSVM format\n",
        "# dump_svmlight_file(X_bank_train, y_bank_train, \"bank_sparse.libsvm\", zero_based=True)\n",
        "\n",
        "# # Save e-commerce sparse data without labels\n",
        "# dump_svmlight_file(e_commerce_train, np.zeros(e_commerce_train.shape[0]), \"ecommerce_sparse.libsvm\", zero_based=True)\n"
      ],
      "metadata": {
        "id": "gic6RyWPgPQ6"
      },
      "execution_count": 37,
      "outputs": []
    },
    {
      "cell_type": "code",
      "source": [
        "# from flow import FateFlow\n",
        "\n",
        "# fate_flow = FateFlow(host=\"10.0.0.249\", port=8000)\n",
        "\n",
        "# # Upload bank data\n",
        "# fate_flow.data.upload(\n",
        "#     name=\"bank_sparse\",\n",
        "#     namespace=\"bank_namespace\",\n",
        "#     file=\"bank_sparse.libsvm\",\n",
        "#     head=0\n",
        "# )\n",
        "\n",
        "# # Upload e-commerce data\n",
        "# fate_flow.data.upload(\n",
        "#     name=\"ecommerce_sparse\",\n",
        "#     namespace=\"ecommerce_namespace\",\n",
        "#     file=\"ecommerce_sparse.libsvm\",\n",
        "#     head=1\n",
        "# )\n"
      ],
      "metadata": {
        "id": "xoTM1D-Ufdsl"
      },
      "execution_count": 38,
      "outputs": []
    },
    {
      "cell_type": "code",
      "source": [
        "# response = fate_flow.job.submit(conf_path=\"secureboost_pipeline.json\")\n",
        "# print(\"Job submitted successfully. Job ID:\", response.get(\"jobId\"))\n"
      ],
      "metadata": {
        "id": "ayd26NXmldC_"
      },
      "execution_count": 39,
      "outputs": []
    },
    {
      "cell_type": "code",
      "source": [
        "# job_id = response.get(\"jobId\")\n",
        "\n",
        "# # Query job status\n",
        "# status = fate_flow.job.query(job_id=job_id)\n",
        "# print(\"Job status:\", status)\n"
      ],
      "metadata": {
        "id": "su3M7JRgld-k"
      },
      "execution_count": 40,
      "outputs": []
    },
    {
      "cell_type": "code",
      "source": [
        "# !pip install fate_client"
      ],
      "metadata": {
        "id": "5GPcX3-zyCGf"
      },
      "execution_count": 41,
      "outputs": []
    },
    {
      "cell_type": "code",
      "source": [
        "# !pipeline --help"
      ],
      "metadata": {
        "id": "MRXvpR56yJdT"
      },
      "execution_count": 42,
      "outputs": []
    },
    {
      "cell_type": "code",
      "source": [
        "# !pipeline init --ip 10.0.0.249 --port 9380"
      ],
      "metadata": {
        "id": "R5_dmQFwyPCJ"
      },
      "execution_count": 43,
      "outputs": []
    },
    {
      "cell_type": "markdown",
      "source": [
        "This is tricky! When first running the project uncomment this TFF install and restart the runtime, then recomment it, other wise project will not work and you will get a error at this line\n",
        "state = iterative_process.initialize()"
      ],
      "metadata": {
        "id": "3IbT9ZvzY5Du"
      }
    },
    {
      "cell_type": "code",
      "source": [
        "#!pip install tensorflow tensorflow-federated"
      ],
      "metadata": {
        "collapsed": true,
        "id": "rY8o5sxg5zsT"
      },
      "execution_count": 44,
      "outputs": []
    },
    {
      "cell_type": "code",
      "source": [
        "# Prepare for federated learning\n",
        "import tensorflow as tf\n",
        "import tensorflow_federated as tff\n",
        "\n",
        "# Define the model\n",
        "def create_keras_model():\n",
        "    model = tf.keras.models.Sequential([\n",
        "        # Input Layer with increased neurons\n",
        "        tf.keras.layers.Dense(256, activation='relu', input_shape=(X_bank_train_resampled.shape[1],)),\n",
        "        tf.keras.layers.BatchNormalization(),\n",
        "        tf.keras.layers.Dropout(0.3),\n",
        "\n",
        "        # Hidden Layers\n",
        "        tf.keras.layers.Dense(256, activation='relu'),\n",
        "        tf.keras.layers.BatchNormalization(),\n",
        "        tf.keras.layers.Dropout(0.3),\n",
        "\n",
        "        tf.keras.layers.Dense(128, activation='relu'),\n",
        "        tf.keras.layers.BatchNormalization(),\n",
        "        tf.keras.layers.Dropout(0.3),\n",
        "\n",
        "        tf.keras.layers.Dense(64, activation='relu'),\n",
        "        tf.keras.layers.BatchNormalization(),\n",
        "        tf.keras.layers.Dropout(0.3),\n",
        "\n",
        "        # Output Layer\n",
        "        tf.keras.layers.Dense(1, activation='sigmoid')\n",
        "    ])\n",
        "    return model\n",
        "\n",
        "def model_fn():\n",
        "    keras_model = create_keras_model()\n",
        "    return tff.learning.models.from_keras_model(\n",
        "        keras_model=keras_model,\n",
        "        input_spec=bank_client_data.element_spec,\n",
        "        loss=tf.keras.losses.BinaryCrossentropy(),\n",
        "        metrics=[\n",
        "            tf.keras.metrics.BinaryAccuracy(),\n",
        "            tf.keras.metrics.Precision(),\n",
        "            tf.keras.metrics.Recall(),\n",
        "            tf.keras.metrics.AUC()\n",
        "        ]\n",
        "    )\n",
        "\n",
        "# Define client and server optimizers\n",
        "client_optimizer_fn = lambda: tf.keras.optimizers.SGD(learning_rate=0.1)\n",
        "server_optimizer_fn = lambda: tf.keras.optimizers.SGD(learning_rate=1.0)\n",
        "\n",
        "# Build the federated averaging process\n",
        "iterative_process = tff.learning.algorithms.build_weighted_fed_avg(\n",
        "    model_fn=model_fn,\n",
        "    client_optimizer_fn=client_optimizer_fn,\n",
        "    server_optimizer_fn=server_optimizer_fn\n",
        ")\n",
        "\n",
        "# Initialize the server state\n",
        "state = iterative_process.initialize()\n",
        "\n",
        "# Train for a few rounds\n",
        "NUM_ROUNDS = 30\n",
        "for round_num in range(1, NUM_ROUNDS + 1):\n",
        "    state, metrics = iterative_process.next(state, federated_train_data)\n",
        "    print(f'Round {round_num}, Metrics={metrics}')\n"
      ],
      "metadata": {
        "colab": {
          "base_uri": "https://localhost:8080/"
        },
        "id": "2gG-2WlL-pqb",
        "outputId": "007fb6aa-ffe9-4d84-d1b7-f16baa0a9117"
      },
      "execution_count": 46,
      "outputs": [
        {
          "output_type": "stream",
          "name": "stderr",
          "text": [
            "WARNING:tensorflow:From /usr/local/lib/python3.10/dist-packages/keras/src/layers/normalization/batch_normalization.py:883: _colocate_with (from tensorflow.python.framework.ops) is deprecated and will be removed in a future version.\n",
            "Instructions for updating:\n",
            "Colocations handled automatically by placer.\n",
            "/usr/local/lib/python3.10/dist-packages/tensorflow_federated/python/learning/models/keras_utils.py:201: UserWarning: Batch Normalization contains non-trainable variables that won't be updated during the training. Consider using Group Normalization instead.\n",
            "  warnings.warn(\n"
          ]
        },
        {
          "output_type": "stream",
          "name": "stdout",
          "text": [
            "Round 1, Metrics=OrderedDict([('distributor', ()), ('client_work', OrderedDict([('train', OrderedDict([('binary_accuracy', 0.9917977), ('precision', 0.98853284), ('recall', 0.9844008), ('auc', 0.9980743), ('loss', 0.029877985), ('num_examples', 217500), ('num_batches', 6798)]))])), ('aggregator', OrderedDict([('mean_value', ()), ('mean_weight', ())])), ('finalizer', OrderedDict([('update_non_finite', 0)]))])\n",
            "Round 2, Metrics=OrderedDict([('distributor', ()), ('client_work', OrderedDict([('train', OrderedDict([('binary_accuracy', 0.9938621), ('precision', 0.9930795), ('recall', 0.9866574), ('auc', 0.9989752), ('loss', 0.021153538), ('num_examples', 217500), ('num_batches', 6798)]))])), ('aggregator', OrderedDict([('mean_value', ()), ('mean_weight', ())])), ('finalizer', OrderedDict([('update_non_finite', 0)]))])\n",
            "Round 3, Metrics=OrderedDict([('distributor', ()), ('client_work', OrderedDict([('train', OrderedDict([('binary_accuracy', 0.9944965), ('precision', 0.9938151), ('recall', 0.9880204), ('auc', 0.99912876), ('loss', 0.018338978), ('num_examples', 217500), ('num_batches', 6798)]))])), ('aggregator', OrderedDict([('mean_value', ()), ('mean_weight', ())])), ('finalizer', OrderedDict([('update_non_finite', 0)]))])\n",
            "Round 4, Metrics=OrderedDict([('distributor', ()), ('client_work', OrderedDict([('train', OrderedDict([('binary_accuracy', 0.99450576), ('precision', 0.9938604), ('recall', 0.9880053), ('auc', 0.99927616), ('loss', 0.01806099), ('num_examples', 217500), ('num_batches', 6798)]))])), ('aggregator', OrderedDict([('mean_value', ()), ('mean_weight', ())])), ('finalizer', OrderedDict([('update_non_finite', 0)]))])\n",
            "Round 5, Metrics=OrderedDict([('distributor', ()), ('client_work', OrderedDict([('train', OrderedDict([('binary_accuracy', 0.9948368), ('precision', 0.99406266), ('recall', 0.9888988), ('auc', 0.99925166), ('loss', 0.016559443), ('num_examples', 217500), ('num_batches', 6798)]))])), ('aggregator', OrderedDict([('mean_value', ()), ('mean_weight', ())])), ('finalizer', OrderedDict([('update_non_finite', 0)]))])\n",
            "Round 6, Metrics=OrderedDict([('distributor', ()), ('client_work', OrderedDict([('train', OrderedDict([('binary_accuracy', 0.9952184), ('precision', 0.9948225), ('recall', 0.9893986), ('auc', 0.99939215), ('loss', 0.015422141), ('num_examples', 217500), ('num_batches', 6798)]))])), ('aggregator', OrderedDict([('mean_value', ()), ('mean_weight', ())])), ('finalizer', OrderedDict([('update_non_finite', 0)]))])\n",
            "Round 7, Metrics=OrderedDict([('distributor', ()), ('client_work', OrderedDict([('train', OrderedDict([('binary_accuracy', 0.9953839), ('precision', 0.99484044), ('recall', 0.98992866), ('auc', 0.99938935), ('loss', 0.0152099095), ('num_examples', 217500), ('num_batches', 6798)]))])), ('aggregator', OrderedDict([('mean_value', ()), ('mean_weight', ())])), ('finalizer', OrderedDict([('update_non_finite', 0)]))])\n",
            "Round 8, Metrics=OrderedDict([('distributor', ()), ('client_work', OrderedDict([('train', OrderedDict([('binary_accuracy', 0.9956828), ('precision', 0.9951467), ('recall', 0.9906102), ('auc', 0.9993488), ('loss', 0.014269839), ('num_examples', 217500), ('num_batches', 6798)]))])), ('aggregator', OrderedDict([('mean_value', ()), ('mean_weight', ())])), ('finalizer', OrderedDict([('update_non_finite', 0)]))])\n",
            "Round 9, Metrics=OrderedDict([('distributor', ()), ('client_work', OrderedDict([('train', OrderedDict([('binary_accuracy', 0.99551266), ('precision', 0.9948426), ('recall', 0.99035275), ('auc', 0.99941), ('loss', 0.014336444), ('num_examples', 217500), ('num_batches', 6798)]))])), ('aggregator', OrderedDict([('mean_value', ()), ('mean_weight', ())])), ('finalizer', OrderedDict([('update_non_finite', 0)]))])\n",
            "Round 10, Metrics=OrderedDict([('distributor', ()), ('client_work', OrderedDict([('train', OrderedDict([('binary_accuracy', 0.9959678), ('precision', 0.9955429), ('recall', 0.9911554), ('auc', 0.9994569), ('loss', 0.013178115), ('num_examples', 217500), ('num_batches', 6798)]))])), ('aggregator', OrderedDict([('mean_value', ()), ('mean_weight', ())])), ('finalizer', OrderedDict([('update_non_finite', 0)]))])\n",
            "Round 11, Metrics=OrderedDict([('distributor', ()), ('client_work', OrderedDict([('train', OrderedDict([('binary_accuracy', 0.99586666), ('precision', 0.9951496), ('recall', 0.991216), ('auc', 0.99951595), ('loss', 0.0134259965), ('num_examples', 217500), ('num_batches', 6798)]))])), ('aggregator', OrderedDict([('mean_value', ()), ('mean_weight', ())])), ('finalizer', OrderedDict([('update_non_finite', 0)]))])\n",
            "Round 12, Metrics=OrderedDict([('distributor', ()), ('client_work', OrderedDict([('train', OrderedDict([('binary_accuracy', 0.99594945), ('precision', 0.9953467), ('recall', 0.9912917), ('auc', 0.99947435), ('loss', 0.013034687), ('num_examples', 217500), ('num_batches', 6798)]))])), ('aggregator', OrderedDict([('mean_value', ()), ('mean_weight', ())])), ('finalizer', OrderedDict([('update_non_finite', 0)]))])\n",
            "Round 13, Metrics=OrderedDict([('distributor', ()), ('client_work', OrderedDict([('train', OrderedDict([('binary_accuracy', 0.99603677), ('precision', 0.99534804), ('recall', 0.9915795), ('auc', 0.99950665), ('loss', 0.012690537), ('num_examples', 217500), ('num_batches', 6798)]))])), ('aggregator', OrderedDict([('mean_value', ()), ('mean_weight', ())])), ('finalizer', OrderedDict([('update_non_finite', 0)]))])\n",
            "Round 14, Metrics=OrderedDict([('distributor', ()), ('client_work', OrderedDict([('train', OrderedDict([('binary_accuracy', 0.9960276), ('precision', 0.99522746), ('recall', 0.9916703), ('auc', 0.9995085), ('loss', 0.012948149), ('num_examples', 217500), ('num_batches', 6798)]))])), ('aggregator', OrderedDict([('mean_value', ()), ('mean_weight', ())])), ('finalizer', OrderedDict([('update_non_finite', 0)]))])\n",
            "Round 15, Metrics=OrderedDict([('distributor', ()), ('client_work', OrderedDict([('train', OrderedDict([('binary_accuracy', 0.9962621), ('precision', 0.99547195), ('recall', 0.9922004), ('auc', 0.9995224), ('loss', 0.012366347), ('num_examples', 217500), ('num_batches', 6798)]))])), ('aggregator', OrderedDict([('mean_value', ()), ('mean_weight', ())])), ('finalizer', OrderedDict([('update_non_finite', 0)]))])\n",
            "Round 16, Metrics=OrderedDict([('distributor', ()), ('client_work', OrderedDict([('train', OrderedDict([('binary_accuracy', 0.9962621), ('precision', 0.99544185), ('recall', 0.9922307), ('auc', 0.99954116), ('loss', 0.012011328), ('num_examples', 217500), ('num_batches', 6798)]))])), ('aggregator', OrderedDict([('mean_value', ()), ('mean_weight', ())])), ('finalizer', OrderedDict([('update_non_finite', 0)]))])\n",
            "Round 17, Metrics=OrderedDict([('distributor', ()), ('client_work', OrderedDict([('train', OrderedDict([('binary_accuracy', 0.9963126), ('precision', 0.9954727), ('recall', 0.99236697), ('auc', 0.9995701), ('loss', 0.012066798), ('num_examples', 217500), ('num_batches', 6798)]))])), ('aggregator', OrderedDict([('mean_value', ()), ('mean_weight', ())])), ('finalizer', OrderedDict([('update_non_finite', 0)]))])\n",
            "Round 18, Metrics=OrderedDict([('distributor', ()), ('client_work', OrderedDict([('train', OrderedDict([('binary_accuracy', 0.99664366), ('precision', 0.9960046), ('recall', 0.9929274), ('auc', 0.99959433), ('loss', 0.011174495), ('num_examples', 217500), ('num_batches', 6798)]))])), ('aggregator', OrderedDict([('mean_value', ()), ('mean_weight', ())])), ('finalizer', OrderedDict([('update_non_finite', 0)]))])\n",
            "Round 19, Metrics=OrderedDict([('distributor', ()), ('client_work', OrderedDict([('train', OrderedDict([('binary_accuracy', 0.99650115), ('precision', 0.9957616), ('recall', 0.99270016), ('auc', 0.99951), ('loss', 0.011427829), ('num_examples', 217500), ('num_batches', 6798)]))])), ('aggregator', OrderedDict([('mean_value', ()), ('mean_weight', ())])), ('finalizer', OrderedDict([('update_non_finite', 0)]))])\n",
            "Round 20, Metrics=OrderedDict([('distributor', ()), ('client_work', OrderedDict([('train', OrderedDict([('binary_accuracy', 0.9964552), ('precision', 0.9956254), ('recall', 0.992685), ('auc', 0.9996385), ('loss', 0.011133424), ('num_examples', 217500), ('num_batches', 6798)]))])), ('aggregator', OrderedDict([('mean_value', ()), ('mean_weight', ())])), ('finalizer', OrderedDict([('update_non_finite', 0)]))])\n",
            "Round 21, Metrics=OrderedDict([('distributor', ()), ('client_work', OrderedDict([('train', OrderedDict([('binary_accuracy', 0.99638623), ('precision', 0.9954136), ('recall', 0.9926699), ('auc', 0.9996), ('loss', 0.011456607), ('num_examples', 217500), ('num_batches', 6798)]))])), ('aggregator', OrderedDict([('mean_value', ()), ('mean_weight', ())])), ('finalizer', OrderedDict([('update_non_finite', 0)]))])\n",
            "Round 22, Metrics=OrderedDict([('distributor', ()), ('client_work', OrderedDict([('train', OrderedDict([('binary_accuracy', 0.9965931), ('precision', 0.99568754), ('recall', 0.9930788), ('auc', 0.9995526), ('loss', 0.010831304), ('num_examples', 217500), ('num_batches', 6798)]))])), ('aggregator', OrderedDict([('mean_value', ()), ('mean_weight', ())])), ('finalizer', OrderedDict([('update_non_finite', 0)]))])\n",
            "Round 23, Metrics=OrderedDict([('distributor', ()), ('client_work', OrderedDict([('train', OrderedDict([('binary_accuracy', 0.9966299), ('precision', 0.9957483), ('recall', 0.9931394), ('auc', 0.99965554), ('loss', 0.010852172), ('num_examples', 217500), ('num_batches', 6798)]))])), ('aggregator', OrderedDict([('mean_value', ()), ('mean_weight', ())])), ('finalizer', OrderedDict([('update_non_finite', 0)]))])\n",
            "Round 24, Metrics=OrderedDict([('distributor', ()), ('client_work', OrderedDict([('train', OrderedDict([('binary_accuracy', 0.99672186), ('precision', 0.99593025), ('recall', 0.99326056), ('auc', 0.99960357), ('loss', 0.010685751), ('num_examples', 217500), ('num_batches', 6798)]))])), ('aggregator', OrderedDict([('mean_value', ()), ('mean_weight', ())])), ('finalizer', OrderedDict([('update_non_finite', 0)]))])\n",
            "Round 25, Metrics=OrderedDict([('distributor', ()), ('client_work', OrderedDict([('train', OrderedDict([('binary_accuracy', 0.9968552), ('precision', 0.9962032), ('recall', 0.99342716), ('auc', 0.9996168), ('loss', 0.010495361), ('num_examples', 217500), ('num_batches', 6798)]))])), ('aggregator', OrderedDict([('mean_value', ()), ('mean_weight', ())])), ('finalizer', OrderedDict([('update_non_finite', 0)]))])\n",
            "Round 26, Metrics=OrderedDict([('distributor', ()), ('client_work', OrderedDict([('train', OrderedDict([('binary_accuracy', 0.9968644), ('precision', 0.9962184), ('recall', 0.9934423), ('auc', 0.99961406), ('loss', 0.010294308), ('num_examples', 217500), ('num_batches', 6798)]))])), ('aggregator', OrderedDict([('mean_value', ()), ('mean_weight', ())])), ('finalizer', OrderedDict([('update_non_finite', 0)]))])\n",
            "Round 27, Metrics=OrderedDict([('distributor', ()), ('client_work', OrderedDict([('train', OrderedDict([('binary_accuracy', 0.9967908), ('precision', 0.9959312), ('recall', 0.9934877), ('auc', 0.99956834), ('loss', 0.010654014), ('num_examples', 217500), ('num_batches', 6798)]))])), ('aggregator', OrderedDict([('mean_value', ()), ('mean_weight', ())])), ('finalizer', OrderedDict([('update_non_finite', 0)]))])\n",
            "Round 28, Metrics=OrderedDict([('distributor', ()), ('client_work', OrderedDict([('train', OrderedDict([('binary_accuracy', 0.9968874), ('precision', 0.9961885), ('recall', 0.9935483), ('auc', 0.9996505), ('loss', 0.010000746), ('num_examples', 217500), ('num_batches', 6798)]))])), ('aggregator', OrderedDict([('mean_value', ()), ('mean_weight', ())])), ('finalizer', OrderedDict([('update_non_finite', 0)]))])\n",
            "Round 29, Metrics=OrderedDict([('distributor', ()), ('client_work', OrderedDict([('train', OrderedDict([('binary_accuracy', 0.99686897), ('precision', 0.9960527), ('recall', 0.99362403), ('auc', 0.9996491), ('loss', 0.010044134), ('num_examples', 217500), ('num_batches', 6798)]))])), ('aggregator', OrderedDict([('mean_value', ()), ('mean_weight', ())])), ('finalizer', OrderedDict([('update_non_finite', 0)]))])\n",
            "Round 30, Metrics=OrderedDict([('distributor', ()), ('client_work', OrderedDict([('train', OrderedDict([('binary_accuracy', 0.9968), ('precision', 0.99594635), ('recall', 0.99350286), ('auc', 0.9996651), ('loss', 0.010172598), ('num_examples', 217500), ('num_batches', 6798)]))])), ('aggregator', OrderedDict([('mean_value', ()), ('mean_weight', ())])), ('finalizer', OrderedDict([('update_non_finite', 0)]))])\n"
          ]
        }
      ]
    },
    {
      "cell_type": "code",
      "source": [
        "print(tff.__version__)"
      ],
      "metadata": {
        "colab": {
          "base_uri": "https://localhost:8080/"
        },
        "id": "YF24ysM-_4Fs",
        "outputId": "9cb0cd17-3ca3-4061-b44a-f574088cb14e"
      },
      "execution_count": 47,
      "outputs": [
        {
          "output_type": "stream",
          "name": "stdout",
          "text": [
            "0.84.0\n"
          ]
        }
      ]
    },
    {
      "cell_type": "code",
      "source": [
        "# Extract the trained model parameters\n",
        "model_weights = iterative_process.get_model_weights(state)\n",
        "\n",
        "# Create a new Keras model instance\n",
        "evaluation_model = create_keras_model()\n",
        "\n",
        "# Assign the trained weights to the new model\n",
        "model_weights.assign_weights_to(evaluation_model)\n",
        "\n",
        "# Compile the model for evaluation\n",
        "evaluation_model.compile(\n",
        "    optimizer='adam',\n",
        "    loss=tf.keras.losses.BinaryCrossentropy(),\n",
        "    metrics=[\n",
        "        tf.keras.metrics.BinaryAccuracy(),\n",
        "        tf.keras.metrics.Precision(),\n",
        "        tf.keras.metrics.Recall(),\n",
        "        tf.keras.metrics.AUC()\n",
        "    ]\n",
        ")\n",
        "\n",
        "# Evaluate on the bank's test data\n",
        "evaluation_results = evaluation_model.evaluate(X_bank_test_processed, y_bank_test, verbose=2)\n",
        "\n",
        "print(evaluation_model.evaluate(X_bank_test_processed, y_bank_test, verbose=2))\n",
        "# Extract the metric names and their corresponding values\n",
        "metric_names = ['loss', 'binary_accuracy', 'precision', 'recall', 'auc']\n",
        "metric_values = dict(zip(metric_names, evaluation_results))\n",
        "print(\"Evaluation Metrics:\", metric_values)\n"
      ],
      "metadata": {
        "colab": {
          "base_uri": "https://localhost:8080/"
        },
        "id": "UEQs8U-QBnSc",
        "outputId": "0d8d4814-2be9-4bc4-c2f9-d1abf46a0e2c"
      },
      "execution_count": 51,
      "outputs": [
        {
          "output_type": "stream",
          "name": "stdout",
          "text": [
            "535/535 - 1s - loss: 2.2452 - binary_accuracy: 0.0348 - precision_1: 0.0340 - recall_1: 1.0000 - auc_1: 0.9739 - 1s/epoch - 2ms/step\n",
            "535/535 - 1s - loss: 2.2452 - binary_accuracy: 0.0348 - precision_1: 0.0340 - recall_1: 1.0000 - auc_1: 0.9739 - 849ms/epoch - 2ms/step\n",
            "[2.245213747024536, 0.03475920110940933, 0.03402436152100563, 1.0, 0.9739288687705994]\n",
            "Evaluation Metrics: {'loss': 2.245213747024536, 'binary_accuracy': 0.03475920110940933, 'precision': 0.03402436152100563, 'recall': 1.0, 'auc': 0.9739288687705994}\n"
          ]
        }
      ]
    },
    {
      "cell_type": "code",
      "source": [
        "# Calculate F1-score\n",
        "precision = metric_values['precision']\n",
        "recall = metric_values['recall']\n",
        "f1_score = 2 * (precision * recall) / (precision + recall + 1e-6)  # Add epsilon to avoid division by zero\n",
        "\n",
        "# Add F1-score to the metrics dictionary\n",
        "metric_values['f1_score'] = f1_score\n",
        "print(f\"F1-Score: {f1_score:.4f}\")\n"
      ],
      "metadata": {
        "colab": {
          "base_uri": "https://localhost:8080/"
        },
        "id": "YGj031GwT6OW",
        "outputId": "e69bcce7-11ff-4af2-e93e-12359e05cf17"
      },
      "execution_count": 52,
      "outputs": [
        {
          "output_type": "stream",
          "name": "stdout",
          "text": [
            "F1-Score: 0.0658\n"
          ]
        }
      ]
    },
    {
      "cell_type": "code",
      "source": [
        "import matplotlib.pyplot as plt\n",
        "\n",
        "# Metrics to visualize\n",
        "metrics_to_plot = ['binary_accuracy', 'precision', 'recall', 'auc', 'f1_score']\n",
        "values_to_plot = [metric_values[m] for m in metrics_to_plot]\n",
        "\n",
        "# Plot the metrics as a bar chart\n",
        "plt.figure(figsize=(8, 5))\n",
        "plt.bar(metrics_to_plot, values_to_plot, color='skyblue')\n",
        "plt.title('Evaluation Metrics')\n",
        "plt.ylabel('Value')\n",
        "plt.ylim(0, 1)  # Metrics are probabilities, so limit y-axis to 1\n",
        "plt.show()\n"
      ],
      "metadata": {
        "colab": {
          "base_uri": "https://localhost:8080/",
          "height": 468
        },
        "id": "3b2yxf_5T95R",
        "outputId": "d4ee6d09-b8c0-4a4d-edc1-9df5bc87c21d"
      },
      "execution_count": 53,
      "outputs": [
        {
          "output_type": "display_data",
          "data": {
            "text/plain": [
              "<Figure size 800x500 with 1 Axes>"
            ],
            "image/png": "[encoded data removed]"
          },
          "metadata": {}
        }
      ]
    },
    {
      "cell_type": "code",
      "source": [
        "from sklearn.metrics import precision_recall_curve\n",
        "\n",
        "# Get model predictions on the test set\n",
        "y_pred_probs = evaluation_model.predict(X_bank_test_processed).ravel()\n",
        "\n",
        "# Compute precision-recall pairs for different thresholds\n",
        "precisions, recalls, thresholds = precision_recall_curve(y_bank_test, y_pred_probs)\n",
        "\n",
        "# Plot the Precision-Recall curve\n",
        "plt.figure(figsize=(8, 5))\n",
        "plt.plot(recalls, precisions, marker='.')\n",
        "plt.title('Precision-Recall Curve')\n",
        "plt.xlabel('Recall')\n",
        "plt.ylabel('Precision')\n",
        "plt.show()\n"
      ],
      "metadata": {
        "colab": {
          "base_uri": "https://localhost:8080/",
          "height": 504
        },
        "id": "KXyriDfLUCc1",
        "outputId": "0b6627a9-3cdb-484a-f497-6b56ce375ad4"
      },
      "execution_count": 54,
      "outputs": [
        {
          "output_type": "stream",
          "name": "stdout",
          "text": [
            "535/535 [==============================] - 1s 2ms/step\n"
          ]
        },
        {
          "output_type": "display_data",
          "data": {
            "text/plain": [
              "<Figure size 800x500 with 1 Axes>"
            ],
            "image/png": "[encoded data removed]"
          },
          "metadata": {}
        }
      ]
    },
    {
      "cell_type": "code",
      "source": [
        "from sklearn.metrics import roc_curve, auc\n",
        "\n",
        "# Compute the ROC curve\n",
        "fpr, tpr, thresholds = roc_curve(y_bank_test, y_pred_probs)\n",
        "roc_auc = auc(fpr, tpr)\n",
        "\n",
        "# Plot the ROC curve\n",
        "plt.figure(figsize=(8, 5))\n",
        "plt.plot(fpr, tpr, label=f'ROC Curve (AUC = {roc_auc:.2f})')\n",
        "plt.plot([0, 1], [0, 1], linestyle='--', color='gray')  # Diagonal line\n",
        "plt.title('Receiver Operating Characteristic (ROC) Curve')\n",
        "plt.xlabel('False Positive Rate')\n",
        "plt.ylabel('True Positive Rate')\n",
        "plt.legend()\n",
        "plt.show()\n"
      ],
      "metadata": {
        "colab": {
          "base_uri": "https://localhost:8080/",
          "height": 487
        },
        "id": "aIFnjF1sUEiA",
        "outputId": "131f263b-be98-4205-c625-0e9991c306b0"
      },
      "execution_count": 55,
      "outputs": [
        {
          "output_type": "display_data",
          "data": {
            "text/plain": [
              "<Figure size 800x500 with 1 Axes>"
            ],
            "image/png": "[encoded data removed]"
          },
          "metadata": {}
        }
      ]
    },
    {
      "cell_type": "markdown",
      "source": [
        "Generating Counterfactual Explanation using DiCE"
      ],
      "metadata": {
        "id": "P7BdzX4BiBHr"
      }
    },
    {
      "cell_type": "code",
      "source": [
        "!pip install dice-ml"
      ],
      "metadata": {
        "colab": {
          "base_uri": "https://localhost:8080/"
        },
        "id": "O7NIKW2niNG1",
        "outputId": "a0a75a01-d899-486f-dfa0-77e8c888361f"
      },
      "execution_count": 56,
      "outputs": [
        {
          "output_type": "stream",
          "name": "stdout",
          "text": [
            "Requirement already satisfied: dice-ml in /usr/local/lib/python3.10/dist-packages (0.11)\n",
            "Requirement already satisfied: jsonschema in /usr/local/lib/python3.10/dist-packages (from dice-ml) (4.23.0)\n",
            "Requirement already satisfied: numpy in /usr/local/lib/python3.10/dist-packages (from dice-ml) (1.25.2)\n",
            "Requirement already satisfied: pandas<2.0.0 in /usr/local/lib/python3.10/dist-packages (from dice-ml) (1.5.3)\n",
            "Requirement already satisfied: scikit-learn in /usr/local/lib/python3.10/dist-packages (from dice-ml) (1.5.2)\n",
            "Requirement already satisfied: tqdm in /usr/local/lib/python3.10/dist-packages (from dice-ml) (4.66.6)\n",
            "Requirement already satisfied: raiutils>=0.4.0 in /usr/local/lib/python3.10/dist-packages (from dice-ml) (0.4.2)\n",
            "Requirement already satisfied: python-dateutil>=2.8.1 in /usr/local/lib/python3.10/dist-packages (from pandas<2.0.0->dice-ml) (2.8.2)\n",
            "Requirement already satisfied: pytz>=2020.1 in /usr/local/lib/python3.10/dist-packages (from pandas<2.0.0->dice-ml) (2024.2)\n",
            "Requirement already satisfied: requests in /usr/local/lib/python3.10/dist-packages (from raiutils>=0.4.0->dice-ml) (2.32.3)\n",
            "Requirement already satisfied: scipy in /usr/local/lib/python3.10/dist-packages (from raiutils>=0.4.0->dice-ml) (1.9.3)\n",
            "Requirement already satisfied: attrs>=22.2.0 in /usr/local/lib/python3.10/dist-packages (from jsonschema->dice-ml) (23.1.0)\n",
            "Requirement already satisfied: jsonschema-specifications>=2023.03.6 in /usr/local/lib/python3.10/dist-packages (from jsonschema->dice-ml) (2024.10.1)\n",
            "Requirement already satisfied: referencing>=0.28.4 in /usr/local/lib/python3.10/dist-packages (from jsonschema->dice-ml) (0.35.1)\n",
            "Requirement already satisfied: rpds-py>=0.7.1 in /usr/local/lib/python3.10/dist-packages (from jsonschema->dice-ml) (0.21.0)\n",
            "Requirement already satisfied: joblib>=1.2.0 in /usr/local/lib/python3.10/dist-packages (from scikit-learn->dice-ml) (1.4.2)\n",
            "Requirement already satisfied: threadpoolctl>=3.1.0 in /usr/local/lib/python3.10/dist-packages (from scikit-learn->dice-ml) (3.5.0)\n",
            "Requirement already satisfied: six>=1.5 in /usr/local/lib/python3.10/dist-packages (from python-dateutil>=2.8.1->pandas<2.0.0->dice-ml) (1.16.0)\n",
            "Requirement already satisfied: charset-normalizer<4,>=2 in /usr/local/lib/python3.10/dist-packages (from requests->raiutils>=0.4.0->dice-ml) (3.4.0)\n",
            "Requirement already satisfied: idna<4,>=2.5 in /usr/local/lib/python3.10/dist-packages (from requests->raiutils>=0.4.0->dice-ml) (3.10)\n",
            "Requirement already satisfied: urllib3<3,>=1.21.1 in /usr/local/lib/python3.10/dist-packages (from requests->raiutils>=0.4.0->dice-ml) (2.2.3)\n",
            "Requirement already satisfied: certifi>=2017.4.17 in /usr/local/lib/python3.10/dist-packages (from requests->raiutils>=0.4.0->dice-ml) (2024.8.30)\n"
          ]
        }
      ]
    },
    {
      "cell_type": "code",
      "source": [
        "import pandas as pd\n",
        "\n",
        "# Use the feature names from 'all_features'\n",
        "X_test_df = pd.DataFrame(X_bank_test_processed, columns=all_features)\n",
        "\n",
        "# Add the target variable\n",
        "X_test_df['Class'] = y_bank_test\n"
      ],
      "metadata": {
        "id": "RWiC8J6CiFM3"
      },
      "execution_count": 57,
      "outputs": []
    },
    {
      "cell_type": "markdown",
      "source": [
        "Data interfcae"
      ],
      "metadata": {
        "id": "caQKfubTicRK"
      }
    },
    {
      "cell_type": "code",
      "source": [
        "import dice_ml\n",
        "from dice_ml import Data\n",
        "\n",
        "# Define feature types\n",
        "continuous_features = all_features  # Adjust if you have categorical features\n",
        "categorical_features = []  # Specify categorical features if any\n",
        "\n",
        "data_dice = Data(dataframe=X_test_df,\n",
        "                 continuous_features=continuous_features,\n",
        "                 outcome_name='Class')\n"
      ],
      "metadata": {
        "id": "oxKzN_eKibkn"
      },
      "execution_count": 58,
      "outputs": []
    },
    {
      "cell_type": "markdown",
      "source": [
        "Model interface"
      ],
      "metadata": {
        "id": "EVQU32INigQ3"
      }
    },
    {
      "cell_type": "code",
      "source": [
        "from dice_ml import Model\n",
        "\n",
        "model_dice = Model(model=evaluation_model, backend='TF2', model_type='classifier')\n"
      ],
      "metadata": {
        "id": "KUJTXISUihfS"
      },
      "execution_count": 59,
      "outputs": []
    },
    {
      "cell_type": "markdown",
      "source": [
        "DICE explainer init"
      ],
      "metadata": {
        "id": "PWDtzNyGimsp"
      }
    },
    {
      "cell_type": "code",
      "source": [
        "from dice_ml import Dice\n",
        "\n",
        "exp = Dice(data_dice, model_dice, method='random')\n"
      ],
      "metadata": {
        "id": "fYvpJ20Kiq7q"
      },
      "execution_count": 60,
      "outputs": []
    },
    {
      "cell_type": "markdown",
      "source": [
        "We now select a fraud transaction to get explanation"
      ],
      "metadata": {
        "id": "h61xt-Fkit1Q"
      }
    },
    {
      "cell_type": "code",
      "source": [
        "# Get model predictions\n",
        "y_pred_probs = evaluation_model.predict(X_bank_test_processed).ravel()\n",
        "y_pred = (y_pred_probs >= 0.5).astype(int)\n",
        "\n",
        "# Find indices of transactions predicted as fraud\n",
        "fraud_indices = [i for i, pred in enumerate(y_pred) if pred == 1]\n",
        "\n",
        "if fraud_indices:\n",
        "    idx = fraud_indices[0]  # Take the first one\n",
        "    query_instance = X_test_df.iloc[[idx]]\n",
        "else:\n",
        "    print(\"No transactions predicted as fraud in the test set.\")\n",
        "\n",
        "    fraud_indices = np.where(y_bank_test == 1)[0]\n",
        "    idx = fraud_indices[0]\n",
        "    query_instance = X_test_df.iloc[[idx]]\n",
        "    print(query_instance)\n"
      ],
      "metadata": {
        "colab": {
          "base_uri": "https://localhost:8080/"
        },
        "id": "fbVNdJL9iy1t",
        "outputId": "813e616c-586e-4dcc-a072-62324983c30b"
      },
      "execution_count": 61,
      "outputs": [
        {
          "output_type": "stream",
          "name": "stdout",
          "text": [
            "535/535 [==============================] - 1s 2ms/step\n"
          ]
        }
      ]
    },
    {
      "cell_type": "markdown",
      "source": [
        "Generate explanations"
      ],
      "metadata": {
        "id": "P9IB3IMXi1f1"
      }
    },
    {
      "cell_type": "code",
      "source": [
        "# Prepare the query instance\n",
        "query_instance_features = query_instance.drop(columns=['Class'])\n",
        "\n",
        "print(type(query_instance_features))\n",
        "print(query_instance_features)\n",
        "\n",
        "# Specify immutable features if any\n",
        "immutable_features = ['Card ID']\n",
        "\n",
        "# Generate counterfactual explanations\n",
        "dice_exp = exp.generate_counterfactuals(query_instance_features,\n",
        "                                        total_CFs=3,\n",
        "                                        desired_class=0,\n",
        "                                        features_to_vary='all')\n"
      ],
      "metadata": {
        "colab": {
          "base_uri": "https://localhost:8080/"
        },
        "id": "GMpch466i3cg",
        "outputId": "79a3a432-c1d8-4c28-cd72-d2983c6d5a19"
      },
      "execution_count": 62,
      "outputs": [
        {
          "output_type": "stream",
          "name": "stdout",
          "text": [
            "<class 'pandas.core.frame.DataFrame'>\n",
            "       Time    Amount        V1        V2        V3        V4        V5  \\\n",
            "0 -0.274607 -0.454666  0.599651 -1.008848  0.259652  0.295509  0.322974   \n",
            "\n",
            "         V6        V7        V8  ...  Loyalty Points Available  \\\n",
            "0 -0.253823  0.277593  0.436191  ...                  0.725861   \n",
            "\n",
            "   Merchant Category_freq  Payment Method_freq  Channel_freq  Location_freq  \\\n",
            "0                     0.0                  0.0           0.0            0.0   \n",
            "\n",
            "   Device Type_freq  Season_freq  hour  day_of_week  month  \n",
            "0               0.0          0.0   0.0          0.0    0.0  \n",
            "\n",
            "[1 rows x 45 columns]\n"
          ]
        },
        {
          "output_type": "stream",
          "name": "stderr",
          "text": [
            "100%|██████████| 1/1 [00:02<00:00,  2.59s/it]\n"
          ]
        }
      ]
    },
    {
      "cell_type": "markdown",
      "source": [
        "Visualize explanation"
      ],
      "metadata": {
        "id": "lz0QPI2bi7Bg"
      }
    },
    {
      "cell_type": "code",
      "source": [
        "# Check the model's prediction for the query instance\n",
        "prediction = evaluation_model.predict(query_instance_features)\n",
        "print(\"Model prediction for query instance:\", prediction)\n"
      ],
      "metadata": {
        "colab": {
          "base_uri": "https://localhost:8080/"
        },
        "id": "yS1afDWZw6OH",
        "outputId": "087e4b9c-a7fc-4772-86b0-a122d473c820"
      },
      "execution_count": 63,
      "outputs": [
        {
          "output_type": "stream",
          "name": "stdout",
          "text": [
            "1/1 [==============================] - 0s 104ms/step\n",
            "Model prediction for query instance: [[0.89687073]]\n"
          ]
        }
      ]
    },
    {
      "cell_type": "code",
      "source": [
        "# Display the counterfactual examples\n",
        "dice_exp.visualize_as_dataframe()\n"
      ],
      "metadata": {
        "colab": {
          "base_uri": "https://localhost:8080/",
          "height": 372
        },
        "id": "px229r6Pi9ah",
        "outputId": "58148e2a-7c6f-4b73-bf32-84092380697e"
      },
      "execution_count": 64,
      "outputs": [
        {
          "output_type": "stream",
          "name": "stdout",
          "text": [
            "Query instance (original outcome : 1)\n"
          ]
        },
        {
          "output_type": "display_data",
          "data": {
            "text/plain": [
              "       Time    Amount        V1        V2        V3        V4        V5  \\\n",
              "0 -0.274607 -0.454666  0.599651 -1.008848  0.259652  0.295509  0.322974   \n",
              "\n",
              "         V6        V7        V8  ...  Merchant Category_freq  \\\n",
              "0 -0.253823  0.277593  0.436191  ...                     0.0   \n",
              "\n",
              "   Payment Method_freq  Channel_freq  Location_freq  Device Type_freq  \\\n",
              "0                  0.0           0.0            0.0               0.0   \n",
              "\n",
              "   Season_freq  hour  day_of_week  month  Class  \n",
              "0          0.0   0.0          0.0    0.0      1  \n",
              "\n",
              "[1 rows x 46 columns]"
            ],
            "text/html": [
              "\n",
              "  <div id=\"df-caba231c-70a1-4937-9cc1-baf6b4abbef3\" class=\"colab-df-container\">\n",
              "    <div>\n",
              "<style scoped>\n",
              "    .dataframe tbody tr th:only-of-type {\n",
              "        vertical-align: middle;\n",
              "    }\n",
              "\n",
              "    .dataframe tbody tr th {\n",
              "        vertical-align: top;\n",
              "    }\n",
              "\n",
              "    .dataframe thead th {\n",
              "        text-align: right;\n",
              "    }\n",
              "</style>\n",
              "<table border=\"1\" class=\"dataframe\">\n",
              "  <thead>\n",
              "    <tr style=\"text-align: right;\">\n",
              "      <th></th>\n",
              "      <th>Time</th>\n",
              "      <th>Amount</th>\n",
              "      <th>V1</th>\n",
              "      <th>V2</th>\n",
              "      <th>V3</th>\n",
              "      <th>V4</th>\n",
              "      <th>V5</th>\n",
              "      <th>V6</th>\n",
              "      <th>V7</th>\n",
              "      <th>V8</th>\n",
              "      <th>...</th>\n",
              "      <th>Merchant Category_freq</th>\n",
              "      <th>Payment Method_freq</th>\n",
              "      <th>Channel_freq</th>\n",
              "      <th>Location_freq</th>\n",
              "      <th>Device Type_freq</th>\n",
              "      <th>Season_freq</th>\n",
              "      <th>hour</th>\n",
              "      <th>day_of_week</th>\n",
              "      <th>month</th>\n",
              "      <th>Class</th>\n",
              "    </tr>\n",
              "  </thead>\n",
              "  <tbody>\n",
              "    <tr>\n",
              "      <th>0</th>\n",
              "      <td>-0.274607</td>\n",
              "      <td>-0.454666</td>\n",
              "      <td>0.599651</td>\n",
              "      <td>-1.008848</td>\n",
              "      <td>0.259652</td>\n",
              "      <td>0.295509</td>\n",
              "      <td>0.322974</td>\n",
              "      <td>-0.253823</td>\n",
              "      <td>0.277593</td>\n",
              "      <td>0.436191</td>\n",
              "      <td>...</td>\n",
              "      <td>0.0</td>\n",
              "      <td>0.0</td>\n",
              "      <td>0.0</td>\n",
              "      <td>0.0</td>\n",
              "      <td>0.0</td>\n",
              "      <td>0.0</td>\n",
              "      <td>0.0</td>\n",
              "      <td>0.0</td>\n",
              "      <td>0.0</td>\n",
              "      <td>1</td>\n",
              "    </tr>\n",
              "  </tbody>\n",
              "</table>\n",
              "<p>1 rows × 46 columns</p>\n",
              "</div>\n",
              "    <div class=\"colab-df-buttons\">\n",
              "\n",
              "  <div class=\"colab-df-container\">\n",
              "    <button class=\"colab-df-convert\" onclick=\"convertToInteractive('df-caba231c-70a1-4937-9cc1-baf6b4abbef3')\"\n",
              "            title=\"Convert this dataframe to an interactive table.\"\n",
              "            style=\"display:none;\">\n",
              "\n",
              "  <svg xmlns=\"http://www.w3.org/2000/svg\" height=\"24px\" viewBox=\"0 -960 960 960\">\n",
              "    <path d=\"M120-120v-720h720v720H120Zm60-500h600v-160H180v160Zm220 220h160v-160H400v160Zm0 220h160v-160H400v160ZM180-400h160v-160H180v160Zm440 0h160v-160H620v160ZM180-180h160v-160H180v160Zm440 0h160v-160H620v160Z\"/>\n",
              "  </svg>\n",
              "    </button>\n",
              "\n",
              "  <style>\n",
              "    .colab-df-container {\n",
              "      display:flex;\n",
              "      gap: 12px;\n",
              "    }\n",
              "\n",
              "    .colab-df-convert {\n",
              "      background-color: #E8F0FE;\n",
              "      border: none;\n",
              "      border-radius: 50%;\n",
              "      cursor: pointer;\n",
              "      display: none;\n",
              "      fill: #1967D2;\n",
              "      height: 32px;\n",
              "      padding: 0 0 0 0;\n",
              "      width: 32px;\n",
              "    }\n",
              "\n",
              "    .colab-df-convert:hover {\n",
              "      background-color: #E2EBFA;\n",
              "      box-shadow: 0px 1px 2px rgba(60, 64, 67, 0.3), 0px 1px 3px 1px rgba(60, 64, 67, 0.15);\n",
              "      fill: #174EA6;\n",
              "    }\n",
              "\n",
              "    .colab-df-buttons div {\n",
              "      margin-bottom: 4px;\n",
              "    }\n",
              "\n",
              "    [theme=dark] .colab-df-convert {\n",
              "      background-color: #3B4455;\n",
              "      fill: #D2E3FC;\n",
              "    }\n",
              "\n",
              "    [theme=dark] .colab-df-convert:hover {\n",
              "      background-color: #434B5C;\n",
              "      box-shadow: 0px 1px 3px 1px rgba(0, 0, 0, 0.15);\n",
              "      filter: drop-shadow(0px 1px 2px rgba(0, 0, 0, 0.3));\n",
              "      fill: #FFFFFF;\n",
              "    }\n",
              "  </style>\n",
              "\n",
              "    <script>\n",
              "      const buttonEl =\n",
              "        document.querySelector('#df-caba231c-70a1-4937-9cc1-baf6b4abbef3 button.colab-df-convert');\n",
              "      buttonEl.style.display =\n",
              "        google.colab.kernel.accessAllowed ? 'block' : 'none';\n",
              "\n",
              "      async function convertToInteractive(key) {\n",
              "        const element = document.querySelector('#df-caba231c-70a1-4937-9cc1-baf6b4abbef3');\n",
              "        const dataTable =\n",
              "          await google.colab.kernel.invokeFunction('convertToInteractive',\n",
              "                                                    [key], {});\n",
              "        if (!dataTable) return;\n",
              "\n",
              "        const docLinkHtml = 'Like what you see? Visit the ' +\n",
              "          '<a target=\"_blank\" href=https://colab.research.google.com/notebooks/data_table.ipynb>data table notebook</a>'\n",
              "          + ' to learn more about interactive tables.';\n",
              "        element.innerHTML = '';\n",
              "        dataTable['output_type'] = 'display_data';\n",
              "        await google.colab.output.renderOutput(dataTable, element);\n",
              "        const docLink = document.createElement('div');\n",
              "        docLink.innerHTML = docLinkHtml;\n",
              "        element.appendChild(docLink);\n",
              "      }\n",
              "    </script>\n",
              "  </div>\n",
              "\n",
              "\n",
              "    </div>\n",
              "  </div>\n"
            ],
            "application/vnd.google.colaboratory.intrinsic+json": {
              "type": "dataframe"
            }
          },
          "metadata": {}
        },
        {
          "output_type": "stream",
          "name": "stdout",
          "text": [
            "\n",
            "Diverse Counterfactual set (new outcome: 0)\n"
          ]
        },
        {
          "output_type": "display_data",
          "data": {
            "text/plain": [
              "       Time     Amount        V1        V2        V3        V4        V5  \\\n",
              "0 -0.274607  13.818929  0.599651 -1.008848  0.259652  0.295509  0.322974   \n",
              "1 -0.274607  11.870461  0.599651 -1.008848  0.259652  0.295509  0.322974   \n",
              "2 -0.274607  14.076282  0.599651 -1.008848  0.259652  0.295509  0.322974   \n",
              "\n",
              "         V6        V7        V8  ...  Merchant Category_freq  \\\n",
              "0 -0.253823  0.277593 -7.775500  ...                     0.0   \n",
              "1 -0.253823  0.277593  0.436191  ...                     0.0   \n",
              "2 -0.253823  0.277593  0.436191  ...                     0.0   \n",
              "\n",
              "   Payment Method_freq  Channel_freq  Location_freq  Device Type_freq  \\\n",
              "0                  0.0           0.0            0.0               0.0   \n",
              "1                  0.0           0.0            0.0               0.0   \n",
              "2                  0.0           0.0            0.0               0.0   \n",
              "\n",
              "   Season_freq  hour  day_of_week  month  Class  \n",
              "0          0.0   0.0          0.0    0.0      0  \n",
              "1          0.0   0.0          0.0    0.0      0  \n",
              "2          0.0   0.0          0.0    0.0      0  \n",
              "\n",
              "[3 rows x 46 columns]"
            ],
            "text/html": [
              "\n",
              "  <div id=\"df-51dbe20a-71fc-458f-8c1c-ccb71ec5869e\" class=\"colab-df-container\">\n",
              "    <div>\n",
              "<style scoped>\n",
              "    .dataframe tbody tr th:only-of-type {\n",
              "        vertical-align: middle;\n",
              "    }\n",
              "\n",
              "    .dataframe tbody tr th {\n",
              "        vertical-align: top;\n",
              "    }\n",
              "\n",
              "    .dataframe thead th {\n",
              "        text-align: right;\n",
              "    }\n",
              "</style>\n",
              "<table border=\"1\" class=\"dataframe\">\n",
              "  <thead>\n",
              "    <tr style=\"text-align: right;\">\n",
              "      <th></th>\n",
              "      <th>Time</th>\n",
              "      <th>Amount</th>\n",
              "      <th>V1</th>\n",
              "      <th>V2</th>\n",
              "      <th>V3</th>\n",
              "      <th>V4</th>\n",
              "      <th>V5</th>\n",
              "      <th>V6</th>\n",
              "      <th>V7</th>\n",
              "      <th>V8</th>\n",
              "      <th>...</th>\n",
              "      <th>Merchant Category_freq</th>\n",
              "      <th>Payment Method_freq</th>\n",
              "      <th>Channel_freq</th>\n",
              "      <th>Location_freq</th>\n",
              "      <th>Device Type_freq</th>\n",
              "      <th>Season_freq</th>\n",
              "      <th>hour</th>\n",
              "      <th>day_of_week</th>\n",
              "      <th>month</th>\n",
              "      <th>Class</th>\n",
              "    </tr>\n",
              "  </thead>\n",
              "  <tbody>\n",
              "    <tr>\n",
              "      <th>0</th>\n",
              "      <td>-0.274607</td>\n",
              "      <td>13.818929</td>\n",
              "      <td>0.599651</td>\n",
              "      <td>-1.008848</td>\n",
              "      <td>0.259652</td>\n",
              "      <td>0.295509</td>\n",
              "      <td>0.322974</td>\n",
              "      <td>-0.253823</td>\n",
              "      <td>0.277593</td>\n",
              "      <td>-7.775500</td>\n",
              "      <td>...</td>\n",
              "      <td>0.0</td>\n",
              "      <td>0.0</td>\n",
              "      <td>0.0</td>\n",
              "      <td>0.0</td>\n",
              "      <td>0.0</td>\n",
              "      <td>0.0</td>\n",
              "      <td>0.0</td>\n",
              "      <td>0.0</td>\n",
              "      <td>0.0</td>\n",
              "      <td>0</td>\n",
              "    </tr>\n",
              "    <tr>\n",
              "      <th>1</th>\n",
              "      <td>-0.274607</td>\n",
              "      <td>11.870461</td>\n",
              "      <td>0.599651</td>\n",
              "      <td>-1.008848</td>\n",
              "      <td>0.259652</td>\n",
              "      <td>0.295509</td>\n",
              "      <td>0.322974</td>\n",
              "      <td>-0.253823</td>\n",
              "      <td>0.277593</td>\n",
              "      <td>0.436191</td>\n",
              "      <td>...</td>\n",
              "      <td>0.0</td>\n",
              "      <td>0.0</td>\n",
              "      <td>0.0</td>\n",
              "      <td>0.0</td>\n",
              "      <td>0.0</td>\n",
              "      <td>0.0</td>\n",
              "      <td>0.0</td>\n",
              "      <td>0.0</td>\n",
              "      <td>0.0</td>\n",
              "      <td>0</td>\n",
              "    </tr>\n",
              "    <tr>\n",
              "      <th>2</th>\n",
              "      <td>-0.274607</td>\n",
              "      <td>14.076282</td>\n",
              "      <td>0.599651</td>\n",
              "      <td>-1.008848</td>\n",
              "      <td>0.259652</td>\n",
              "      <td>0.295509</td>\n",
              "      <td>0.322974</td>\n",
              "      <td>-0.253823</td>\n",
              "      <td>0.277593</td>\n",
              "      <td>0.436191</td>\n",
              "      <td>...</td>\n",
              "      <td>0.0</td>\n",
              "      <td>0.0</td>\n",
              "      <td>0.0</td>\n",
              "      <td>0.0</td>\n",
              "      <td>0.0</td>\n",
              "      <td>0.0</td>\n",
              "      <td>0.0</td>\n",
              "      <td>0.0</td>\n",
              "      <td>0.0</td>\n",
              "      <td>0</td>\n",
              "    </tr>\n",
              "  </tbody>\n",
              "</table>\n",
              "<p>3 rows × 46 columns</p>\n",
              "</div>\n",
              "    <div class=\"colab-df-buttons\">\n",
              "\n",
              "  <div class=\"colab-df-container\">\n",
              "    <button class=\"colab-df-convert\" onclick=\"convertToInteractive('df-51dbe20a-71fc-458f-8c1c-ccb71ec5869e')\"\n",
              "            title=\"Convert this dataframe to an interactive table.\"\n",
              "            style=\"display:none;\">\n",
              "\n",
              "  <svg xmlns=\"http://www.w3.org/2000/svg\" height=\"24px\" viewBox=\"0 -960 960 960\">\n",
              "    <path d=\"M120-120v-720h720v720H120Zm60-500h600v-160H180v160Zm220 220h160v-160H400v160Zm0 220h160v-160H400v160ZM180-400h160v-160H180v160Zm440 0h160v-160H620v160ZM180-180h160v-160H180v160Zm440 0h160v-160H620v160Z\"/>\n",
              "  </svg>\n",
              "    </button>\n",
              "\n",
              "  <style>\n",
              "    .colab-df-container {\n",
              "      display:flex;\n",
              "      gap: 12px;\n",
              "    }\n",
              "\n",
              "    .colab-df-convert {\n",
              "      background-color: #E8F0FE;\n",
              "      border: none;\n",
              "      border-radius: 50%;\n",
              "      cursor: pointer;\n",
              "      display: none;\n",
              "      fill: #1967D2;\n",
              "      height: 32px;\n",
              "      padding: 0 0 0 0;\n",
              "      width: 32px;\n",
              "    }\n",
              "\n",
              "    .colab-df-convert:hover {\n",
              "      background-color: #E2EBFA;\n",
              "      box-shadow: 0px 1px 2px rgba(60, 64, 67, 0.3), 0px 1px 3px 1px rgba(60, 64, 67, 0.15);\n",
              "      fill: #174EA6;\n",
              "    }\n",
              "\n",
              "    .colab-df-buttons div {\n",
              "      margin-bottom: 4px;\n",
              "    }\n",
              "\n",
              "    [theme=dark] .colab-df-convert {\n",
              "      background-color: #3B4455;\n",
              "      fill: #D2E3FC;\n",
              "    }\n",
              "\n",
              "    [theme=dark] .colab-df-convert:hover {\n",
              "      background-color: #434B5C;\n",
              "      box-shadow: 0px 1px 3px 1px rgba(0, 0, 0, 0.15);\n",
              "      filter: drop-shadow(0px 1px 2px rgba(0, 0, 0, 0.3));\n",
              "      fill: #FFFFFF;\n",
              "    }\n",
              "  </style>\n",
              "\n",
              "    <script>\n",
              "      const buttonEl =\n",
              "        document.querySelector('#df-51dbe20a-71fc-458f-8c1c-ccb71ec5869e button.colab-df-convert');\n",
              "      buttonEl.style.display =\n",
              "        google.colab.kernel.accessAllowed ? 'block' : 'none';\n",
              "\n",
              "      async function convertToInteractive(key) {\n",
              "        const element = document.querySelector('#df-51dbe20a-71fc-458f-8c1c-ccb71ec5869e');\n",
              "        const dataTable =\n",
              "          await google.colab.kernel.invokeFunction('convertToInteractive',\n",
              "                                                    [key], {});\n",
              "        if (!dataTable) return;\n",
              "\n",
              "        const docLinkHtml = 'Like what you see? Visit the ' +\n",
              "          '<a target=\"_blank\" href=https://colab.research.google.com/notebooks/data_table.ipynb>data table notebook</a>'\n",
              "          + ' to learn more about interactive tables.';\n",
              "        element.innerHTML = '';\n",
              "        dataTable['output_type'] = 'display_data';\n",
              "        await google.colab.output.renderOutput(dataTable, element);\n",
              "        const docLink = document.createElement('div');\n",
              "        docLink.innerHTML = docLinkHtml;\n",
              "        element.appendChild(docLink);\n",
              "      }\n",
              "    </script>\n",
              "  </div>\n",
              "\n",
              "\n",
              "<div id=\"df-973c4854-0405-4196-ad52-46efc3fc0410\">\n",
              "  <button class=\"colab-df-quickchart\" onclick=\"quickchart('df-973c4854-0405-4196-ad52-46efc3fc0410')\"\n",
              "            title=\"Suggest charts\"\n",
              "            style=\"display:none;\">\n",
              "\n",
              "<svg xmlns=\"http://www.w3.org/2000/svg\" height=\"24px\"viewBox=\"0 0 24 24\"\n",
              "     width=\"24px\">\n",
              "    <g>\n",
              "        <path d=\"M19 3H5c-1.1 0-2 .9-2 2v14c0 1.1.9 2 2 2h14c1.1 0 2-.9 2-2V5c0-1.1-.9-2-2-2zM9 17H7v-7h2v7zm4 0h-2V7h2v10zm4 0h-2v-4h2v4z\"/>\n",
              "    </g>\n",
              "</svg>\n",
              "  </button>\n",
              "\n",
              "<style>\n",
              "  .colab-df-quickchart {\n",
              "      --bg-color: #E8F0FE;\n",
              "      --fill-color: #1967D2;\n",
              "      --hover-bg-color: #E2EBFA;\n",
              "      --hover-fill-color: #174EA6;\n",
              "      --disabled-fill-color: #AAA;\n",
              "      --disabled-bg-color: #DDD;\n",
              "  }\n",
              "\n",
              "  [theme=dark] .colab-df-quickchart {\n",
              "      --bg-color: #3B4455;\n",
              "      --fill-color: #D2E3FC;\n",
              "      --hover-bg-color: #434B5C;\n",
              "      --hover-fill-color: #FFFFFF;\n",
              "      --disabled-bg-color: #3B4455;\n",
              "      --disabled-fill-color: #666;\n",
              "  }\n",
              "\n",
              "  .colab-df-quickchart {\n",
              "    background-color: var(--bg-color);\n",
              "    border: none;\n",
              "    border-radius: 50%;\n",
              "    cursor: pointer;\n",
              "    display: none;\n",
              "    fill: var(--fill-color);\n",
              "    height: 32px;\n",
              "    padding: 0;\n",
              "    width: 32px;\n",
              "  }\n",
              "\n",
              "  .colab-df-quickchart:hover {\n",
              "    background-color: var(--hover-bg-color);\n",
              "    box-shadow: 0 1px 2px rgba(60, 64, 67, 0.3), 0 1px 3px 1px rgba(60, 64, 67, 0.15);\n",
              "    fill: var(--button-hover-fill-color);\n",
              "  }\n",
              "\n",
              "  .colab-df-quickchart-complete:disabled,\n",
              "  .colab-df-quickchart-complete:disabled:hover {\n",
              "    background-color: var(--disabled-bg-color);\n",
              "    fill: var(--disabled-fill-color);\n",
              "    box-shadow: none;\n",
              "  }\n",
              "\n",
              "  .colab-df-spinner {\n",
              "    border: 2px solid var(--fill-color);\n",
              "    border-color: transparent;\n",
              "    border-bottom-color: var(--fill-color);\n",
              "    animation:\n",
              "      spin 1s steps(1) infinite;\n",
              "  }\n",
              "\n",
              "  @keyframes spin {\n",
              "    0% {\n",
              "      border-color: transparent;\n",
              "      border-bottom-color: var(--fill-color);\n",
              "      border-left-color: var(--fill-color);\n",
              "    }\n",
              "    20% {\n",
              "      border-color: transparent;\n",
              "      border-left-color: var(--fill-color);\n",
              "      border-top-color: var(--fill-color);\n",
              "    }\n",
              "    30% {\n",
              "      border-color: transparent;\n",
              "      border-left-color: var(--fill-color);\n",
              "      border-top-color: var(--fill-color);\n",
              "      border-right-color: var(--fill-color);\n",
              "    }\n",
              "    40% {\n",
              "      border-color: transparent;\n",
              "      border-right-color: var(--fill-color);\n",
              "      border-top-color: var(--fill-color);\n",
              "    }\n",
              "    60% {\n",
              "      border-color: transparent;\n",
              "      border-right-color: var(--fill-color);\n",
              "    }\n",
              "    80% {\n",
              "      border-color: transparent;\n",
              "      border-right-color: var(--fill-color);\n",
              "      border-bottom-color: var(--fill-color);\n",
              "    }\n",
              "    90% {\n",
              "      border-color: transparent;\n",
              "      border-bottom-color: var(--fill-color);\n",
              "    }\n",
              "  }\n",
              "</style>\n",
              "\n",
              "  <script>\n",
              "    async function quickchart(key) {\n",
              "      const quickchartButtonEl =\n",
              "        document.querySelector('#' + key + ' button');\n",
              "      quickchartButtonEl.disabled = true;  // To prevent multiple clicks.\n",
              "      quickchartButtonEl.classList.add('colab-df-spinner');\n",
              "      try {\n",
              "        const charts = await google.colab.kernel.invokeFunction(\n",
              "            'suggestCharts', [key], {});\n",
              "      } catch (error) {\n",
              "        console.error('Error during call to suggestCharts:', error);\n",
              "      }\n",
              "      quickchartButtonEl.classList.remove('colab-df-spinner');\n",
              "      quickchartButtonEl.classList.add('colab-df-quickchart-complete');\n",
              "    }\n",
              "    (() => {\n",
              "      let quickchartButtonEl =\n",
              "        document.querySelector('#df-973c4854-0405-4196-ad52-46efc3fc0410 button');\n",
              "      quickchartButtonEl.style.display =\n",
              "        google.colab.kernel.accessAllowed ? 'block' : 'none';\n",
              "    })();\n",
              "  </script>\n",
              "</div>\n",
              "\n",
              "    </div>\n",
              "  </div>\n"
            ],
            "application/vnd.google.colaboratory.intrinsic+json": {
              "type": "dataframe"
            }
          },
          "metadata": {}
        }
      ]
    }
  ]
}